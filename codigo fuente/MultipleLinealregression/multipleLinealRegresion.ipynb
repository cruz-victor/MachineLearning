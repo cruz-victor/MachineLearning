{
 "cells": [
  {
   "cell_type": "markdown",
   "metadata": {
    "collapsed": true,
    "pycharm": {
     "name": "#%% md\n"
    }
   },
   "source": [
    "### Regresion lineal multiple"
   ]
  },
  {
   "cell_type": "code",
   "execution_count": 443,
   "outputs": [],
   "source": [
    "# PREPROCESAMIENTO"
   ],
   "metadata": {
    "collapsed": false,
    "pycharm": {
     "name": "#%%\n"
    }
   }
  },
  {
   "cell_type": "code",
   "execution_count": 444,
   "outputs": [],
   "source": [
    "# LIBRERIAS\n",
    "\n",
    "import numpy as np\n",
    "import matplotlib.pyplot as plt\n",
    "import pandas as pd"
   ],
   "metadata": {
    "collapsed": false,
    "pycharm": {
     "name": "#%%\n"
    }
   }
  },
  {
   "cell_type": "code",
   "execution_count": 445,
   "outputs": [],
   "source": [
    "# DATASET\n",
    "\n",
    "dataset=pd.read_csv(\"DataSet/50_Startups.csv\")\n",
    "x=dataset.iloc[:,:-1]\n",
    "y=dataset.iloc[:,4]"
   ],
   "metadata": {
    "collapsed": false,
    "pycharm": {
     "name": "#%%\n"
    }
   }
  },
  {
   "cell_type": "code",
   "execution_count": 446,
   "outputs": [
    {
     "data": {
      "text/plain": "    R&D Spend  Administration  Marketing Spend       State     Profit\n0   165349.20       136897.80        471784.10    New York  192261.83\n1   162597.70       151377.59        443898.53  California  191792.06\n2   153441.51       101145.55        407934.54     Florida  191050.39\n3   144372.41       118671.85        383199.62    New York  182901.99\n4   142107.34        91391.77        366168.42     Florida  166187.94\n5   131876.90        99814.71        362861.36    New York  156991.12\n6   134615.46       147198.87        127716.82  California  156122.51\n7   130298.13       145530.06        323876.68     Florida  155752.60\n8   120542.52       148718.95        311613.29    New York  152211.77\n9   123334.88       108679.17        304981.62  California  149759.96\n10  101913.08       110594.11        229160.95     Florida  146121.95\n11  100671.96        91790.61        249744.55  California  144259.40\n12   93863.75       127320.38        249839.44     Florida  141585.52\n13   91992.39       135495.07        252664.93  California  134307.35\n14  119943.24       156547.42        256512.92     Florida  132602.65\n15  114523.61       122616.84        261776.23    New York  129917.04\n16   78013.11       121597.55        264346.06  California  126992.93\n17   94657.16       145077.58        282574.31    New York  125370.37\n18   91749.16       114175.79        294919.57     Florida  124266.90\n19   86419.70       153514.11             0.00    New York  122776.86\n20   76253.86       113867.30        298664.47  California  118474.03\n21   78389.47       153773.43        299737.29    New York  111313.02\n22   73994.56       122782.75        303319.26     Florida  110352.25\n23   67532.53       105751.03        304768.73     Florida  108733.99\n24   77044.01        99281.34        140574.81    New York  108552.04\n25   64664.71       139553.16        137962.62  California  107404.34\n26   75328.87       144135.98        134050.07     Florida  105733.54\n27   72107.60       127864.55        353183.81    New York  105008.31\n28   66051.52       182645.56        118148.20     Florida  103282.38\n29   65605.48       153032.06        107138.38    New York  101004.64\n30   61994.48       115641.28         91131.24     Florida   99937.59\n31   61136.38       152701.92         88218.23    New York   97483.56\n32   63408.86       129219.61         46085.25  California   97427.84\n33   55493.95       103057.49        214634.81     Florida   96778.92\n34   46426.07       157693.92        210797.67  California   96712.80\n35   46014.02        85047.44        205517.64    New York   96479.51\n36   28663.76       127056.21        201126.82     Florida   90708.19\n37   44069.95        51283.14        197029.42  California   89949.14\n38   20229.59        65947.93        185265.10    New York   81229.06\n39   38558.51        82982.09        174999.30  California   81005.76\n40   28754.33       118546.05        172795.67  California   78239.91\n41   27892.92        84710.77        164470.71     Florida   77798.83\n42   23640.93        96189.63        148001.11  California   71498.49\n43   15505.73       127382.30         35534.17    New York   69758.98\n44   22177.74       154806.14         28334.72  California   65200.33\n45    1000.23       124153.04          1903.93    New York   64926.08\n46    1315.46       115816.21        297114.46     Florida   49490.75\n47       0.00       135426.92             0.00  California   42559.73\n48     542.05        51743.15             0.00    New York   35673.41\n49       0.00       116983.80         45173.06  California   14681.40",
      "text/html": "<div>\n<style scoped>\n    .dataframe tbody tr th:only-of-type {\n        vertical-align: middle;\n    }\n\n    .dataframe tbody tr th {\n        vertical-align: top;\n    }\n\n    .dataframe thead th {\n        text-align: right;\n    }\n</style>\n<table border=\"1\" class=\"dataframe\">\n  <thead>\n    <tr style=\"text-align: right;\">\n      <th></th>\n      <th>R&amp;D Spend</th>\n      <th>Administration</th>\n      <th>Marketing Spend</th>\n      <th>State</th>\n      <th>Profit</th>\n    </tr>\n  </thead>\n  <tbody>\n    <tr>\n      <th>0</th>\n      <td>165349.20</td>\n      <td>136897.80</td>\n      <td>471784.10</td>\n      <td>New York</td>\n      <td>192261.83</td>\n    </tr>\n    <tr>\n      <th>1</th>\n      <td>162597.70</td>\n      <td>151377.59</td>\n      <td>443898.53</td>\n      <td>California</td>\n      <td>191792.06</td>\n    </tr>\n    <tr>\n      <th>2</th>\n      <td>153441.51</td>\n      <td>101145.55</td>\n      <td>407934.54</td>\n      <td>Florida</td>\n      <td>191050.39</td>\n    </tr>\n    <tr>\n      <th>3</th>\n      <td>144372.41</td>\n      <td>118671.85</td>\n      <td>383199.62</td>\n      <td>New York</td>\n      <td>182901.99</td>\n    </tr>\n    <tr>\n      <th>4</th>\n      <td>142107.34</td>\n      <td>91391.77</td>\n      <td>366168.42</td>\n      <td>Florida</td>\n      <td>166187.94</td>\n    </tr>\n    <tr>\n      <th>5</th>\n      <td>131876.90</td>\n      <td>99814.71</td>\n      <td>362861.36</td>\n      <td>New York</td>\n      <td>156991.12</td>\n    </tr>\n    <tr>\n      <th>6</th>\n      <td>134615.46</td>\n      <td>147198.87</td>\n      <td>127716.82</td>\n      <td>California</td>\n      <td>156122.51</td>\n    </tr>\n    <tr>\n      <th>7</th>\n      <td>130298.13</td>\n      <td>145530.06</td>\n      <td>323876.68</td>\n      <td>Florida</td>\n      <td>155752.60</td>\n    </tr>\n    <tr>\n      <th>8</th>\n      <td>120542.52</td>\n      <td>148718.95</td>\n      <td>311613.29</td>\n      <td>New York</td>\n      <td>152211.77</td>\n    </tr>\n    <tr>\n      <th>9</th>\n      <td>123334.88</td>\n      <td>108679.17</td>\n      <td>304981.62</td>\n      <td>California</td>\n      <td>149759.96</td>\n    </tr>\n    <tr>\n      <th>10</th>\n      <td>101913.08</td>\n      <td>110594.11</td>\n      <td>229160.95</td>\n      <td>Florida</td>\n      <td>146121.95</td>\n    </tr>\n    <tr>\n      <th>11</th>\n      <td>100671.96</td>\n      <td>91790.61</td>\n      <td>249744.55</td>\n      <td>California</td>\n      <td>144259.40</td>\n    </tr>\n    <tr>\n      <th>12</th>\n      <td>93863.75</td>\n      <td>127320.38</td>\n      <td>249839.44</td>\n      <td>Florida</td>\n      <td>141585.52</td>\n    </tr>\n    <tr>\n      <th>13</th>\n      <td>91992.39</td>\n      <td>135495.07</td>\n      <td>252664.93</td>\n      <td>California</td>\n      <td>134307.35</td>\n    </tr>\n    <tr>\n      <th>14</th>\n      <td>119943.24</td>\n      <td>156547.42</td>\n      <td>256512.92</td>\n      <td>Florida</td>\n      <td>132602.65</td>\n    </tr>\n    <tr>\n      <th>15</th>\n      <td>114523.61</td>\n      <td>122616.84</td>\n      <td>261776.23</td>\n      <td>New York</td>\n      <td>129917.04</td>\n    </tr>\n    <tr>\n      <th>16</th>\n      <td>78013.11</td>\n      <td>121597.55</td>\n      <td>264346.06</td>\n      <td>California</td>\n      <td>126992.93</td>\n    </tr>\n    <tr>\n      <th>17</th>\n      <td>94657.16</td>\n      <td>145077.58</td>\n      <td>282574.31</td>\n      <td>New York</td>\n      <td>125370.37</td>\n    </tr>\n    <tr>\n      <th>18</th>\n      <td>91749.16</td>\n      <td>114175.79</td>\n      <td>294919.57</td>\n      <td>Florida</td>\n      <td>124266.90</td>\n    </tr>\n    <tr>\n      <th>19</th>\n      <td>86419.70</td>\n      <td>153514.11</td>\n      <td>0.00</td>\n      <td>New York</td>\n      <td>122776.86</td>\n    </tr>\n    <tr>\n      <th>20</th>\n      <td>76253.86</td>\n      <td>113867.30</td>\n      <td>298664.47</td>\n      <td>California</td>\n      <td>118474.03</td>\n    </tr>\n    <tr>\n      <th>21</th>\n      <td>78389.47</td>\n      <td>153773.43</td>\n      <td>299737.29</td>\n      <td>New York</td>\n      <td>111313.02</td>\n    </tr>\n    <tr>\n      <th>22</th>\n      <td>73994.56</td>\n      <td>122782.75</td>\n      <td>303319.26</td>\n      <td>Florida</td>\n      <td>110352.25</td>\n    </tr>\n    <tr>\n      <th>23</th>\n      <td>67532.53</td>\n      <td>105751.03</td>\n      <td>304768.73</td>\n      <td>Florida</td>\n      <td>108733.99</td>\n    </tr>\n    <tr>\n      <th>24</th>\n      <td>77044.01</td>\n      <td>99281.34</td>\n      <td>140574.81</td>\n      <td>New York</td>\n      <td>108552.04</td>\n    </tr>\n    <tr>\n      <th>25</th>\n      <td>64664.71</td>\n      <td>139553.16</td>\n      <td>137962.62</td>\n      <td>California</td>\n      <td>107404.34</td>\n    </tr>\n    <tr>\n      <th>26</th>\n      <td>75328.87</td>\n      <td>144135.98</td>\n      <td>134050.07</td>\n      <td>Florida</td>\n      <td>105733.54</td>\n    </tr>\n    <tr>\n      <th>27</th>\n      <td>72107.60</td>\n      <td>127864.55</td>\n      <td>353183.81</td>\n      <td>New York</td>\n      <td>105008.31</td>\n    </tr>\n    <tr>\n      <th>28</th>\n      <td>66051.52</td>\n      <td>182645.56</td>\n      <td>118148.20</td>\n      <td>Florida</td>\n      <td>103282.38</td>\n    </tr>\n    <tr>\n      <th>29</th>\n      <td>65605.48</td>\n      <td>153032.06</td>\n      <td>107138.38</td>\n      <td>New York</td>\n      <td>101004.64</td>\n    </tr>\n    <tr>\n      <th>30</th>\n      <td>61994.48</td>\n      <td>115641.28</td>\n      <td>91131.24</td>\n      <td>Florida</td>\n      <td>99937.59</td>\n    </tr>\n    <tr>\n      <th>31</th>\n      <td>61136.38</td>\n      <td>152701.92</td>\n      <td>88218.23</td>\n      <td>New York</td>\n      <td>97483.56</td>\n    </tr>\n    <tr>\n      <th>32</th>\n      <td>63408.86</td>\n      <td>129219.61</td>\n      <td>46085.25</td>\n      <td>California</td>\n      <td>97427.84</td>\n    </tr>\n    <tr>\n      <th>33</th>\n      <td>55493.95</td>\n      <td>103057.49</td>\n      <td>214634.81</td>\n      <td>Florida</td>\n      <td>96778.92</td>\n    </tr>\n    <tr>\n      <th>34</th>\n      <td>46426.07</td>\n      <td>157693.92</td>\n      <td>210797.67</td>\n      <td>California</td>\n      <td>96712.80</td>\n    </tr>\n    <tr>\n      <th>35</th>\n      <td>46014.02</td>\n      <td>85047.44</td>\n      <td>205517.64</td>\n      <td>New York</td>\n      <td>96479.51</td>\n    </tr>\n    <tr>\n      <th>36</th>\n      <td>28663.76</td>\n      <td>127056.21</td>\n      <td>201126.82</td>\n      <td>Florida</td>\n      <td>90708.19</td>\n    </tr>\n    <tr>\n      <th>37</th>\n      <td>44069.95</td>\n      <td>51283.14</td>\n      <td>197029.42</td>\n      <td>California</td>\n      <td>89949.14</td>\n    </tr>\n    <tr>\n      <th>38</th>\n      <td>20229.59</td>\n      <td>65947.93</td>\n      <td>185265.10</td>\n      <td>New York</td>\n      <td>81229.06</td>\n    </tr>\n    <tr>\n      <th>39</th>\n      <td>38558.51</td>\n      <td>82982.09</td>\n      <td>174999.30</td>\n      <td>California</td>\n      <td>81005.76</td>\n    </tr>\n    <tr>\n      <th>40</th>\n      <td>28754.33</td>\n      <td>118546.05</td>\n      <td>172795.67</td>\n      <td>California</td>\n      <td>78239.91</td>\n    </tr>\n    <tr>\n      <th>41</th>\n      <td>27892.92</td>\n      <td>84710.77</td>\n      <td>164470.71</td>\n      <td>Florida</td>\n      <td>77798.83</td>\n    </tr>\n    <tr>\n      <th>42</th>\n      <td>23640.93</td>\n      <td>96189.63</td>\n      <td>148001.11</td>\n      <td>California</td>\n      <td>71498.49</td>\n    </tr>\n    <tr>\n      <th>43</th>\n      <td>15505.73</td>\n      <td>127382.30</td>\n      <td>35534.17</td>\n      <td>New York</td>\n      <td>69758.98</td>\n    </tr>\n    <tr>\n      <th>44</th>\n      <td>22177.74</td>\n      <td>154806.14</td>\n      <td>28334.72</td>\n      <td>California</td>\n      <td>65200.33</td>\n    </tr>\n    <tr>\n      <th>45</th>\n      <td>1000.23</td>\n      <td>124153.04</td>\n      <td>1903.93</td>\n      <td>New York</td>\n      <td>64926.08</td>\n    </tr>\n    <tr>\n      <th>46</th>\n      <td>1315.46</td>\n      <td>115816.21</td>\n      <td>297114.46</td>\n      <td>Florida</td>\n      <td>49490.75</td>\n    </tr>\n    <tr>\n      <th>47</th>\n      <td>0.00</td>\n      <td>135426.92</td>\n      <td>0.00</td>\n      <td>California</td>\n      <td>42559.73</td>\n    </tr>\n    <tr>\n      <th>48</th>\n      <td>542.05</td>\n      <td>51743.15</td>\n      <td>0.00</td>\n      <td>New York</td>\n      <td>35673.41</td>\n    </tr>\n    <tr>\n      <th>49</th>\n      <td>0.00</td>\n      <td>116983.80</td>\n      <td>45173.06</td>\n      <td>California</td>\n      <td>14681.40</td>\n    </tr>\n  </tbody>\n</table>\n</div>"
     },
     "execution_count": 446,
     "metadata": {},
     "output_type": "execute_result"
    }
   ],
   "source": [
    "dataset"
   ],
   "metadata": {
    "collapsed": false,
    "pycharm": {
     "name": "#%%\n"
    }
   }
  },
  {
   "cell_type": "code",
   "execution_count": 447,
   "outputs": [
    {
     "data": {
      "text/plain": "    R&D Spend  Administration  Marketing Spend       State\n0   165349.20       136897.80        471784.10    New York\n1   162597.70       151377.59        443898.53  California\n2   153441.51       101145.55        407934.54     Florida\n3   144372.41       118671.85        383199.62    New York\n4   142107.34        91391.77        366168.42     Florida\n5   131876.90        99814.71        362861.36    New York\n6   134615.46       147198.87        127716.82  California\n7   130298.13       145530.06        323876.68     Florida\n8   120542.52       148718.95        311613.29    New York\n9   123334.88       108679.17        304981.62  California\n10  101913.08       110594.11        229160.95     Florida\n11  100671.96        91790.61        249744.55  California\n12   93863.75       127320.38        249839.44     Florida\n13   91992.39       135495.07        252664.93  California\n14  119943.24       156547.42        256512.92     Florida\n15  114523.61       122616.84        261776.23    New York\n16   78013.11       121597.55        264346.06  California\n17   94657.16       145077.58        282574.31    New York\n18   91749.16       114175.79        294919.57     Florida\n19   86419.70       153514.11             0.00    New York\n20   76253.86       113867.30        298664.47  California\n21   78389.47       153773.43        299737.29    New York\n22   73994.56       122782.75        303319.26     Florida\n23   67532.53       105751.03        304768.73     Florida\n24   77044.01        99281.34        140574.81    New York\n25   64664.71       139553.16        137962.62  California\n26   75328.87       144135.98        134050.07     Florida\n27   72107.60       127864.55        353183.81    New York\n28   66051.52       182645.56        118148.20     Florida\n29   65605.48       153032.06        107138.38    New York\n30   61994.48       115641.28         91131.24     Florida\n31   61136.38       152701.92         88218.23    New York\n32   63408.86       129219.61         46085.25  California\n33   55493.95       103057.49        214634.81     Florida\n34   46426.07       157693.92        210797.67  California\n35   46014.02        85047.44        205517.64    New York\n36   28663.76       127056.21        201126.82     Florida\n37   44069.95        51283.14        197029.42  California\n38   20229.59        65947.93        185265.10    New York\n39   38558.51        82982.09        174999.30  California\n40   28754.33       118546.05        172795.67  California\n41   27892.92        84710.77        164470.71     Florida\n42   23640.93        96189.63        148001.11  California\n43   15505.73       127382.30         35534.17    New York\n44   22177.74       154806.14         28334.72  California\n45    1000.23       124153.04          1903.93    New York\n46    1315.46       115816.21        297114.46     Florida\n47       0.00       135426.92             0.00  California\n48     542.05        51743.15             0.00    New York\n49       0.00       116983.80         45173.06  California",
      "text/html": "<div>\n<style scoped>\n    .dataframe tbody tr th:only-of-type {\n        vertical-align: middle;\n    }\n\n    .dataframe tbody tr th {\n        vertical-align: top;\n    }\n\n    .dataframe thead th {\n        text-align: right;\n    }\n</style>\n<table border=\"1\" class=\"dataframe\">\n  <thead>\n    <tr style=\"text-align: right;\">\n      <th></th>\n      <th>R&amp;D Spend</th>\n      <th>Administration</th>\n      <th>Marketing Spend</th>\n      <th>State</th>\n    </tr>\n  </thead>\n  <tbody>\n    <tr>\n      <th>0</th>\n      <td>165349.20</td>\n      <td>136897.80</td>\n      <td>471784.10</td>\n      <td>New York</td>\n    </tr>\n    <tr>\n      <th>1</th>\n      <td>162597.70</td>\n      <td>151377.59</td>\n      <td>443898.53</td>\n      <td>California</td>\n    </tr>\n    <tr>\n      <th>2</th>\n      <td>153441.51</td>\n      <td>101145.55</td>\n      <td>407934.54</td>\n      <td>Florida</td>\n    </tr>\n    <tr>\n      <th>3</th>\n      <td>144372.41</td>\n      <td>118671.85</td>\n      <td>383199.62</td>\n      <td>New York</td>\n    </tr>\n    <tr>\n      <th>4</th>\n      <td>142107.34</td>\n      <td>91391.77</td>\n      <td>366168.42</td>\n      <td>Florida</td>\n    </tr>\n    <tr>\n      <th>5</th>\n      <td>131876.90</td>\n      <td>99814.71</td>\n      <td>362861.36</td>\n      <td>New York</td>\n    </tr>\n    <tr>\n      <th>6</th>\n      <td>134615.46</td>\n      <td>147198.87</td>\n      <td>127716.82</td>\n      <td>California</td>\n    </tr>\n    <tr>\n      <th>7</th>\n      <td>130298.13</td>\n      <td>145530.06</td>\n      <td>323876.68</td>\n      <td>Florida</td>\n    </tr>\n    <tr>\n      <th>8</th>\n      <td>120542.52</td>\n      <td>148718.95</td>\n      <td>311613.29</td>\n      <td>New York</td>\n    </tr>\n    <tr>\n      <th>9</th>\n      <td>123334.88</td>\n      <td>108679.17</td>\n      <td>304981.62</td>\n      <td>California</td>\n    </tr>\n    <tr>\n      <th>10</th>\n      <td>101913.08</td>\n      <td>110594.11</td>\n      <td>229160.95</td>\n      <td>Florida</td>\n    </tr>\n    <tr>\n      <th>11</th>\n      <td>100671.96</td>\n      <td>91790.61</td>\n      <td>249744.55</td>\n      <td>California</td>\n    </tr>\n    <tr>\n      <th>12</th>\n      <td>93863.75</td>\n      <td>127320.38</td>\n      <td>249839.44</td>\n      <td>Florida</td>\n    </tr>\n    <tr>\n      <th>13</th>\n      <td>91992.39</td>\n      <td>135495.07</td>\n      <td>252664.93</td>\n      <td>California</td>\n    </tr>\n    <tr>\n      <th>14</th>\n      <td>119943.24</td>\n      <td>156547.42</td>\n      <td>256512.92</td>\n      <td>Florida</td>\n    </tr>\n    <tr>\n      <th>15</th>\n      <td>114523.61</td>\n      <td>122616.84</td>\n      <td>261776.23</td>\n      <td>New York</td>\n    </tr>\n    <tr>\n      <th>16</th>\n      <td>78013.11</td>\n      <td>121597.55</td>\n      <td>264346.06</td>\n      <td>California</td>\n    </tr>\n    <tr>\n      <th>17</th>\n      <td>94657.16</td>\n      <td>145077.58</td>\n      <td>282574.31</td>\n      <td>New York</td>\n    </tr>\n    <tr>\n      <th>18</th>\n      <td>91749.16</td>\n      <td>114175.79</td>\n      <td>294919.57</td>\n      <td>Florida</td>\n    </tr>\n    <tr>\n      <th>19</th>\n      <td>86419.70</td>\n      <td>153514.11</td>\n      <td>0.00</td>\n      <td>New York</td>\n    </tr>\n    <tr>\n      <th>20</th>\n      <td>76253.86</td>\n      <td>113867.30</td>\n      <td>298664.47</td>\n      <td>California</td>\n    </tr>\n    <tr>\n      <th>21</th>\n      <td>78389.47</td>\n      <td>153773.43</td>\n      <td>299737.29</td>\n      <td>New York</td>\n    </tr>\n    <tr>\n      <th>22</th>\n      <td>73994.56</td>\n      <td>122782.75</td>\n      <td>303319.26</td>\n      <td>Florida</td>\n    </tr>\n    <tr>\n      <th>23</th>\n      <td>67532.53</td>\n      <td>105751.03</td>\n      <td>304768.73</td>\n      <td>Florida</td>\n    </tr>\n    <tr>\n      <th>24</th>\n      <td>77044.01</td>\n      <td>99281.34</td>\n      <td>140574.81</td>\n      <td>New York</td>\n    </tr>\n    <tr>\n      <th>25</th>\n      <td>64664.71</td>\n      <td>139553.16</td>\n      <td>137962.62</td>\n      <td>California</td>\n    </tr>\n    <tr>\n      <th>26</th>\n      <td>75328.87</td>\n      <td>144135.98</td>\n      <td>134050.07</td>\n      <td>Florida</td>\n    </tr>\n    <tr>\n      <th>27</th>\n      <td>72107.60</td>\n      <td>127864.55</td>\n      <td>353183.81</td>\n      <td>New York</td>\n    </tr>\n    <tr>\n      <th>28</th>\n      <td>66051.52</td>\n      <td>182645.56</td>\n      <td>118148.20</td>\n      <td>Florida</td>\n    </tr>\n    <tr>\n      <th>29</th>\n      <td>65605.48</td>\n      <td>153032.06</td>\n      <td>107138.38</td>\n      <td>New York</td>\n    </tr>\n    <tr>\n      <th>30</th>\n      <td>61994.48</td>\n      <td>115641.28</td>\n      <td>91131.24</td>\n      <td>Florida</td>\n    </tr>\n    <tr>\n      <th>31</th>\n      <td>61136.38</td>\n      <td>152701.92</td>\n      <td>88218.23</td>\n      <td>New York</td>\n    </tr>\n    <tr>\n      <th>32</th>\n      <td>63408.86</td>\n      <td>129219.61</td>\n      <td>46085.25</td>\n      <td>California</td>\n    </tr>\n    <tr>\n      <th>33</th>\n      <td>55493.95</td>\n      <td>103057.49</td>\n      <td>214634.81</td>\n      <td>Florida</td>\n    </tr>\n    <tr>\n      <th>34</th>\n      <td>46426.07</td>\n      <td>157693.92</td>\n      <td>210797.67</td>\n      <td>California</td>\n    </tr>\n    <tr>\n      <th>35</th>\n      <td>46014.02</td>\n      <td>85047.44</td>\n      <td>205517.64</td>\n      <td>New York</td>\n    </tr>\n    <tr>\n      <th>36</th>\n      <td>28663.76</td>\n      <td>127056.21</td>\n      <td>201126.82</td>\n      <td>Florida</td>\n    </tr>\n    <tr>\n      <th>37</th>\n      <td>44069.95</td>\n      <td>51283.14</td>\n      <td>197029.42</td>\n      <td>California</td>\n    </tr>\n    <tr>\n      <th>38</th>\n      <td>20229.59</td>\n      <td>65947.93</td>\n      <td>185265.10</td>\n      <td>New York</td>\n    </tr>\n    <tr>\n      <th>39</th>\n      <td>38558.51</td>\n      <td>82982.09</td>\n      <td>174999.30</td>\n      <td>California</td>\n    </tr>\n    <tr>\n      <th>40</th>\n      <td>28754.33</td>\n      <td>118546.05</td>\n      <td>172795.67</td>\n      <td>California</td>\n    </tr>\n    <tr>\n      <th>41</th>\n      <td>27892.92</td>\n      <td>84710.77</td>\n      <td>164470.71</td>\n      <td>Florida</td>\n    </tr>\n    <tr>\n      <th>42</th>\n      <td>23640.93</td>\n      <td>96189.63</td>\n      <td>148001.11</td>\n      <td>California</td>\n    </tr>\n    <tr>\n      <th>43</th>\n      <td>15505.73</td>\n      <td>127382.30</td>\n      <td>35534.17</td>\n      <td>New York</td>\n    </tr>\n    <tr>\n      <th>44</th>\n      <td>22177.74</td>\n      <td>154806.14</td>\n      <td>28334.72</td>\n      <td>California</td>\n    </tr>\n    <tr>\n      <th>45</th>\n      <td>1000.23</td>\n      <td>124153.04</td>\n      <td>1903.93</td>\n      <td>New York</td>\n    </tr>\n    <tr>\n      <th>46</th>\n      <td>1315.46</td>\n      <td>115816.21</td>\n      <td>297114.46</td>\n      <td>Florida</td>\n    </tr>\n    <tr>\n      <th>47</th>\n      <td>0.00</td>\n      <td>135426.92</td>\n      <td>0.00</td>\n      <td>California</td>\n    </tr>\n    <tr>\n      <th>48</th>\n      <td>542.05</td>\n      <td>51743.15</td>\n      <td>0.00</td>\n      <td>New York</td>\n    </tr>\n    <tr>\n      <th>49</th>\n      <td>0.00</td>\n      <td>116983.80</td>\n      <td>45173.06</td>\n      <td>California</td>\n    </tr>\n  </tbody>\n</table>\n</div>"
     },
     "execution_count": 447,
     "metadata": {},
     "output_type": "execute_result"
    }
   ],
   "source": [
    "x"
   ],
   "metadata": {
    "collapsed": false,
    "pycharm": {
     "name": "#%%\n"
    }
   }
  },
  {
   "cell_type": "code",
   "execution_count": 448,
   "outputs": [
    {
     "data": {
      "text/plain": "0     192261.83\n1     191792.06\n2     191050.39\n3     182901.99\n4     166187.94\n5     156991.12\n6     156122.51\n7     155752.60\n8     152211.77\n9     149759.96\n10    146121.95\n11    144259.40\n12    141585.52\n13    134307.35\n14    132602.65\n15    129917.04\n16    126992.93\n17    125370.37\n18    124266.90\n19    122776.86\n20    118474.03\n21    111313.02\n22    110352.25\n23    108733.99\n24    108552.04\n25    107404.34\n26    105733.54\n27    105008.31\n28    103282.38\n29    101004.64\n30     99937.59\n31     97483.56\n32     97427.84\n33     96778.92\n34     96712.80\n35     96479.51\n36     90708.19\n37     89949.14\n38     81229.06\n39     81005.76\n40     78239.91\n41     77798.83\n42     71498.49\n43     69758.98\n44     65200.33\n45     64926.08\n46     49490.75\n47     42559.73\n48     35673.41\n49     14681.40\nName: Profit, dtype: float64"
     },
     "execution_count": 448,
     "metadata": {},
     "output_type": "execute_result"
    }
   ],
   "source": [
    "y"
   ],
   "metadata": {
    "collapsed": false,
    "pycharm": {
     "name": "#%%\n"
    }
   }
  },
  {
   "cell_type": "code",
   "execution_count": 449,
   "outputs": [
    {
     "name": "stderr",
     "output_type": "stream",
     "text": [
      "C:\\Users\\VIC\\AppData\\Local\\Temp/ipykernel_1128/3200799092.py:12: DeprecationWarning: `np.float` is a deprecated alias for the builtin `float`. To silence this warning, use `float` by itself. Doing this will not modify any behavior and is safe. If you specifically wanted the numpy scalar type, use `np.float64` here.\n",
      "Deprecated in NumPy 1.20; for more details and guidance: https://numpy.org/devdocs/release/1.20.0-notes.html#deprecations\n",
      "  x=np.array(ct_x.fit_transform(x),dtype=np.float)\n"
     ]
    }
   ],
   "source": [
    "# CODIFICAR DATOS CATEGORICOS\n",
    "\n",
    "#Codificar la columna 'State'. Primero label, Segundo OneHotEncoder(Dummy) (codifica los textos en numero (label encoder) y luego crea columnas nuevas (dummy) )\n",
    "from sklearn.preprocessing import OneHotEncoder\n",
    "from sklearn.compose import ColumnTransformer\n",
    "\n",
    "ct_x=ColumnTransformer(\n",
    "    [('one_hot_encoder', OneHotEncoder(categories='auto'),[3])],\n",
    "    remainder='passthrough'\n",
    ")\n",
    "\n",
    "x=np.array(ct_x.fit_transform(x),dtype=np.float)"
   ],
   "metadata": {
    "collapsed": false,
    "pycharm": {
     "name": "#%%\n"
    }
   }
  },
  {
   "cell_type": "code",
   "execution_count": 450,
   "outputs": [
    {
     "data": {
      "text/plain": "[[0.0, 0.0, 1.0, 165349.2, 136897.8, 471784.1],\n [1.0, 0.0, 0.0, 162597.7, 151377.59, 443898.53],\n [0.0, 1.0, 0.0, 153441.51, 101145.55, 407934.54],\n [0.0, 0.0, 1.0, 144372.41, 118671.85, 383199.62],\n [0.0, 1.0, 0.0, 142107.34, 91391.77, 366168.42],\n [0.0, 0.0, 1.0, 131876.9, 99814.71, 362861.36],\n [1.0, 0.0, 0.0, 134615.46, 147198.87, 127716.82],\n [0.0, 1.0, 0.0, 130298.13, 145530.06, 323876.68],\n [0.0, 0.0, 1.0, 120542.52, 148718.95, 311613.29],\n [1.0, 0.0, 0.0, 123334.88, 108679.17, 304981.62],\n [0.0, 1.0, 0.0, 101913.08, 110594.11, 229160.95],\n [1.0, 0.0, 0.0, 100671.96, 91790.61, 249744.55],\n [0.0, 1.0, 0.0, 93863.75, 127320.38, 249839.44],\n [1.0, 0.0, 0.0, 91992.39, 135495.07, 252664.93],\n [0.0, 1.0, 0.0, 119943.24, 156547.42, 256512.92],\n [0.0, 0.0, 1.0, 114523.61, 122616.84, 261776.23],\n [1.0, 0.0, 0.0, 78013.11, 121597.55, 264346.06],\n [0.0, 0.0, 1.0, 94657.16, 145077.58, 282574.31],\n [0.0, 1.0, 0.0, 91749.16, 114175.79, 294919.57],\n [0.0, 0.0, 1.0, 86419.7, 153514.11, 0.0],\n [1.0, 0.0, 0.0, 76253.86, 113867.3, 298664.47],\n [0.0, 0.0, 1.0, 78389.47, 153773.43, 299737.29],\n [0.0, 1.0, 0.0, 73994.56, 122782.75, 303319.26],\n [0.0, 1.0, 0.0, 67532.53, 105751.03, 304768.73],\n [0.0, 0.0, 1.0, 77044.01, 99281.34, 140574.81],\n [1.0, 0.0, 0.0, 64664.71, 139553.16, 137962.62],\n [0.0, 1.0, 0.0, 75328.87, 144135.98, 134050.07],\n [0.0, 0.0, 1.0, 72107.6, 127864.55, 353183.81],\n [0.0, 1.0, 0.0, 66051.52, 182645.56, 118148.2],\n [0.0, 0.0, 1.0, 65605.48, 153032.06, 107138.38],\n [0.0, 1.0, 0.0, 61994.48, 115641.28, 91131.24],\n [0.0, 0.0, 1.0, 61136.38, 152701.92, 88218.23],\n [1.0, 0.0, 0.0, 63408.86, 129219.61, 46085.25],\n [0.0, 1.0, 0.0, 55493.95, 103057.49, 214634.81],\n [1.0, 0.0, 0.0, 46426.07, 157693.92, 210797.67],\n [0.0, 0.0, 1.0, 46014.02, 85047.44, 205517.64],\n [0.0, 1.0, 0.0, 28663.76, 127056.21, 201126.82],\n [1.0, 0.0, 0.0, 44069.95, 51283.14, 197029.42],\n [0.0, 0.0, 1.0, 20229.59, 65947.93, 185265.1],\n [1.0, 0.0, 0.0, 38558.51, 82982.09, 174999.3],\n [1.0, 0.0, 0.0, 28754.33, 118546.05, 172795.67],\n [0.0, 1.0, 0.0, 27892.92, 84710.77, 164470.71],\n [1.0, 0.0, 0.0, 23640.93, 96189.63, 148001.11],\n [0.0, 0.0, 1.0, 15505.73, 127382.3, 35534.17],\n [1.0, 0.0, 0.0, 22177.74, 154806.14, 28334.72],\n [0.0, 0.0, 1.0, 1000.23, 124153.04, 1903.93],\n [0.0, 1.0, 0.0, 1315.46, 115816.21, 297114.46],\n [1.0, 0.0, 0.0, 0.0, 135426.92, 0.0],\n [0.0, 0.0, 1.0, 542.05, 51743.15, 0.0],\n [1.0, 0.0, 0.0, 0.0, 116983.8, 45173.06]]"
     },
     "execution_count": 450,
     "metadata": {},
     "output_type": "execute_result"
    }
   ],
   "source": [
    "x.tolist()"
   ],
   "metadata": {
    "collapsed": false,
    "pycharm": {
     "name": "#%%\n"
    }
   }
  },
  {
   "cell_type": "code",
   "execution_count": 451,
   "outputs": [],
   "source": [
    "# EVITAR LA TRAMPA DE LAS VARIABLES DUMMY\n",
    "\n",
    "#Para evitar redundancia de la columna binaria, eliminar una columna dummy\n",
    "x=x[:,1:]"
   ],
   "metadata": {
    "collapsed": false,
    "pycharm": {
     "name": "#%%\n"
    }
   }
  },
  {
   "cell_type": "code",
   "execution_count": 452,
   "outputs": [
    {
     "data": {
      "text/plain": "array([[0.0000000e+00, 1.0000000e+00, 1.6534920e+05, 1.3689780e+05,\n        4.7178410e+05],\n       [0.0000000e+00, 0.0000000e+00, 1.6259770e+05, 1.5137759e+05,\n        4.4389853e+05],\n       [1.0000000e+00, 0.0000000e+00, 1.5344151e+05, 1.0114555e+05,\n        4.0793454e+05],\n       [0.0000000e+00, 1.0000000e+00, 1.4437241e+05, 1.1867185e+05,\n        3.8319962e+05],\n       [1.0000000e+00, 0.0000000e+00, 1.4210734e+05, 9.1391770e+04,\n        3.6616842e+05],\n       [0.0000000e+00, 1.0000000e+00, 1.3187690e+05, 9.9814710e+04,\n        3.6286136e+05],\n       [0.0000000e+00, 0.0000000e+00, 1.3461546e+05, 1.4719887e+05,\n        1.2771682e+05],\n       [1.0000000e+00, 0.0000000e+00, 1.3029813e+05, 1.4553006e+05,\n        3.2387668e+05],\n       [0.0000000e+00, 1.0000000e+00, 1.2054252e+05, 1.4871895e+05,\n        3.1161329e+05],\n       [0.0000000e+00, 0.0000000e+00, 1.2333488e+05, 1.0867917e+05,\n        3.0498162e+05],\n       [1.0000000e+00, 0.0000000e+00, 1.0191308e+05, 1.1059411e+05,\n        2.2916095e+05],\n       [0.0000000e+00, 0.0000000e+00, 1.0067196e+05, 9.1790610e+04,\n        2.4974455e+05],\n       [1.0000000e+00, 0.0000000e+00, 9.3863750e+04, 1.2732038e+05,\n        2.4983944e+05],\n       [0.0000000e+00, 0.0000000e+00, 9.1992390e+04, 1.3549507e+05,\n        2.5266493e+05],\n       [1.0000000e+00, 0.0000000e+00, 1.1994324e+05, 1.5654742e+05,\n        2.5651292e+05],\n       [0.0000000e+00, 1.0000000e+00, 1.1452361e+05, 1.2261684e+05,\n        2.6177623e+05],\n       [0.0000000e+00, 0.0000000e+00, 7.8013110e+04, 1.2159755e+05,\n        2.6434606e+05],\n       [0.0000000e+00, 1.0000000e+00, 9.4657160e+04, 1.4507758e+05,\n        2.8257431e+05],\n       [1.0000000e+00, 0.0000000e+00, 9.1749160e+04, 1.1417579e+05,\n        2.9491957e+05],\n       [0.0000000e+00, 1.0000000e+00, 8.6419700e+04, 1.5351411e+05,\n        0.0000000e+00],\n       [0.0000000e+00, 0.0000000e+00, 7.6253860e+04, 1.1386730e+05,\n        2.9866447e+05],\n       [0.0000000e+00, 1.0000000e+00, 7.8389470e+04, 1.5377343e+05,\n        2.9973729e+05],\n       [1.0000000e+00, 0.0000000e+00, 7.3994560e+04, 1.2278275e+05,\n        3.0331926e+05],\n       [1.0000000e+00, 0.0000000e+00, 6.7532530e+04, 1.0575103e+05,\n        3.0476873e+05],\n       [0.0000000e+00, 1.0000000e+00, 7.7044010e+04, 9.9281340e+04,\n        1.4057481e+05],\n       [0.0000000e+00, 0.0000000e+00, 6.4664710e+04, 1.3955316e+05,\n        1.3796262e+05],\n       [1.0000000e+00, 0.0000000e+00, 7.5328870e+04, 1.4413598e+05,\n        1.3405007e+05],\n       [0.0000000e+00, 1.0000000e+00, 7.2107600e+04, 1.2786455e+05,\n        3.5318381e+05],\n       [1.0000000e+00, 0.0000000e+00, 6.6051520e+04, 1.8264556e+05,\n        1.1814820e+05],\n       [0.0000000e+00, 1.0000000e+00, 6.5605480e+04, 1.5303206e+05,\n        1.0713838e+05],\n       [1.0000000e+00, 0.0000000e+00, 6.1994480e+04, 1.1564128e+05,\n        9.1131240e+04],\n       [0.0000000e+00, 1.0000000e+00, 6.1136380e+04, 1.5270192e+05,\n        8.8218230e+04],\n       [0.0000000e+00, 0.0000000e+00, 6.3408860e+04, 1.2921961e+05,\n        4.6085250e+04],\n       [1.0000000e+00, 0.0000000e+00, 5.5493950e+04, 1.0305749e+05,\n        2.1463481e+05],\n       [0.0000000e+00, 0.0000000e+00, 4.6426070e+04, 1.5769392e+05,\n        2.1079767e+05],\n       [0.0000000e+00, 1.0000000e+00, 4.6014020e+04, 8.5047440e+04,\n        2.0551764e+05],\n       [1.0000000e+00, 0.0000000e+00, 2.8663760e+04, 1.2705621e+05,\n        2.0112682e+05],\n       [0.0000000e+00, 0.0000000e+00, 4.4069950e+04, 5.1283140e+04,\n        1.9702942e+05],\n       [0.0000000e+00, 1.0000000e+00, 2.0229590e+04, 6.5947930e+04,\n        1.8526510e+05],\n       [0.0000000e+00, 0.0000000e+00, 3.8558510e+04, 8.2982090e+04,\n        1.7499930e+05],\n       [0.0000000e+00, 0.0000000e+00, 2.8754330e+04, 1.1854605e+05,\n        1.7279567e+05],\n       [1.0000000e+00, 0.0000000e+00, 2.7892920e+04, 8.4710770e+04,\n        1.6447071e+05],\n       [0.0000000e+00, 0.0000000e+00, 2.3640930e+04, 9.6189630e+04,\n        1.4800111e+05],\n       [0.0000000e+00, 1.0000000e+00, 1.5505730e+04, 1.2738230e+05,\n        3.5534170e+04],\n       [0.0000000e+00, 0.0000000e+00, 2.2177740e+04, 1.5480614e+05,\n        2.8334720e+04],\n       [0.0000000e+00, 1.0000000e+00, 1.0002300e+03, 1.2415304e+05,\n        1.9039300e+03],\n       [1.0000000e+00, 0.0000000e+00, 1.3154600e+03, 1.1581621e+05,\n        2.9711446e+05],\n       [0.0000000e+00, 0.0000000e+00, 0.0000000e+00, 1.3542692e+05,\n        0.0000000e+00],\n       [0.0000000e+00, 1.0000000e+00, 5.4205000e+02, 5.1743150e+04,\n        0.0000000e+00],\n       [0.0000000e+00, 0.0000000e+00, 0.0000000e+00, 1.1698380e+05,\n        4.5173060e+04]])"
     },
     "execution_count": 452,
     "metadata": {},
     "output_type": "execute_result"
    }
   ],
   "source": [
    "x"
   ],
   "metadata": {
    "collapsed": false,
    "pycharm": {
     "name": "#%%\n"
    }
   }
  },
  {
   "cell_type": "code",
   "execution_count": 453,
   "outputs": [],
   "source": [
    "# DIVIDIR DATASET TRAIN Y TEST\n",
    "from sklearn.model_selection import train_test_split\n",
    "x_train, x_test, y_train, y_test=train_test_split(x,y,test_size=0.2, random_state=0)"
   ],
   "metadata": {
    "collapsed": false,
    "pycharm": {
     "name": "#%%\n"
    }
   }
  },
  {
   "cell_type": "code",
   "execution_count": 454,
   "outputs": [
    {
     "data": {
      "text/plain": "array([[1.0000000e+00, 0.0000000e+00, 5.5493950e+04, 1.0305749e+05,\n        2.1463481e+05],\n       [0.0000000e+00, 1.0000000e+00, 4.6014020e+04, 8.5047440e+04,\n        2.0551764e+05],\n       [1.0000000e+00, 0.0000000e+00, 7.5328870e+04, 1.4413598e+05,\n        1.3405007e+05],\n       [0.0000000e+00, 0.0000000e+00, 4.6426070e+04, 1.5769392e+05,\n        2.1079767e+05],\n       [1.0000000e+00, 0.0000000e+00, 9.1749160e+04, 1.1417579e+05,\n        2.9491957e+05],\n       [1.0000000e+00, 0.0000000e+00, 1.3029813e+05, 1.4553006e+05,\n        3.2387668e+05],\n       [1.0000000e+00, 0.0000000e+00, 1.1994324e+05, 1.5654742e+05,\n        2.5651292e+05],\n       [0.0000000e+00, 1.0000000e+00, 1.0002300e+03, 1.2415304e+05,\n        1.9039300e+03],\n       [0.0000000e+00, 1.0000000e+00, 5.4205000e+02, 5.1743150e+04,\n        0.0000000e+00],\n       [0.0000000e+00, 1.0000000e+00, 6.5605480e+04, 1.5303206e+05,\n        1.0713838e+05],\n       [0.0000000e+00, 1.0000000e+00, 1.1452361e+05, 1.2261684e+05,\n        2.6177623e+05],\n       [1.0000000e+00, 0.0000000e+00, 6.1994480e+04, 1.1564128e+05,\n        9.1131240e+04],\n       [0.0000000e+00, 0.0000000e+00, 6.3408860e+04, 1.2921961e+05,\n        4.6085250e+04],\n       [0.0000000e+00, 0.0000000e+00, 7.8013110e+04, 1.2159755e+05,\n        2.6434606e+05],\n       [0.0000000e+00, 0.0000000e+00, 2.3640930e+04, 9.6189630e+04,\n        1.4800111e+05],\n       [0.0000000e+00, 0.0000000e+00, 7.6253860e+04, 1.1386730e+05,\n        2.9866447e+05],\n       [0.0000000e+00, 1.0000000e+00, 1.5505730e+04, 1.2738230e+05,\n        3.5534170e+04],\n       [0.0000000e+00, 1.0000000e+00, 1.2054252e+05, 1.4871895e+05,\n        3.1161329e+05],\n       [0.0000000e+00, 0.0000000e+00, 9.1992390e+04, 1.3549507e+05,\n        2.5266493e+05],\n       [0.0000000e+00, 0.0000000e+00, 6.4664710e+04, 1.3955316e+05,\n        1.3796262e+05],\n       [0.0000000e+00, 1.0000000e+00, 1.3187690e+05, 9.9814710e+04,\n        3.6286136e+05],\n       [0.0000000e+00, 1.0000000e+00, 9.4657160e+04, 1.4507758e+05,\n        2.8257431e+05],\n       [0.0000000e+00, 0.0000000e+00, 2.8754330e+04, 1.1854605e+05,\n        1.7279567e+05],\n       [0.0000000e+00, 0.0000000e+00, 0.0000000e+00, 1.1698380e+05,\n        4.5173060e+04],\n       [0.0000000e+00, 0.0000000e+00, 1.6259770e+05, 1.5137759e+05,\n        4.4389853e+05],\n       [1.0000000e+00, 0.0000000e+00, 9.3863750e+04, 1.2732038e+05,\n        2.4983944e+05],\n       [0.0000000e+00, 0.0000000e+00, 4.4069950e+04, 5.1283140e+04,\n        1.9702942e+05],\n       [0.0000000e+00, 1.0000000e+00, 7.7044010e+04, 9.9281340e+04,\n        1.4057481e+05],\n       [0.0000000e+00, 0.0000000e+00, 1.3461546e+05, 1.4719887e+05,\n        1.2771682e+05],\n       [1.0000000e+00, 0.0000000e+00, 6.7532530e+04, 1.0575103e+05,\n        3.0476873e+05],\n       [1.0000000e+00, 0.0000000e+00, 2.8663760e+04, 1.2705621e+05,\n        2.0112682e+05],\n       [0.0000000e+00, 1.0000000e+00, 7.8389470e+04, 1.5377343e+05,\n        2.9973729e+05],\n       [0.0000000e+00, 1.0000000e+00, 8.6419700e+04, 1.5351411e+05,\n        0.0000000e+00],\n       [0.0000000e+00, 0.0000000e+00, 1.2333488e+05, 1.0867917e+05,\n        3.0498162e+05],\n       [0.0000000e+00, 0.0000000e+00, 3.8558510e+04, 8.2982090e+04,\n        1.7499930e+05],\n       [1.0000000e+00, 0.0000000e+00, 1.3154600e+03, 1.1581621e+05,\n        2.9711446e+05],\n       [0.0000000e+00, 1.0000000e+00, 1.4437241e+05, 1.1867185e+05,\n        3.8319962e+05],\n       [0.0000000e+00, 1.0000000e+00, 1.6534920e+05, 1.3689780e+05,\n        4.7178410e+05],\n       [0.0000000e+00, 0.0000000e+00, 0.0000000e+00, 1.3542692e+05,\n        0.0000000e+00],\n       [0.0000000e+00, 0.0000000e+00, 2.2177740e+04, 1.5480614e+05,\n        2.8334720e+04]])"
     },
     "execution_count": 454,
     "metadata": {},
     "output_type": "execute_result"
    }
   ],
   "source": [
    "x_train"
   ],
   "metadata": {
    "collapsed": false,
    "pycharm": {
     "name": "#%%\n"
    }
   }
  },
  {
   "cell_type": "code",
   "execution_count": 455,
   "outputs": [
    {
     "data": {
      "text/plain": "33     96778.92\n35     96479.51\n26    105733.54\n34     96712.80\n18    124266.90\n7     155752.60\n14    132602.65\n45     64926.08\n48     35673.41\n29    101004.64\n15    129917.04\n30     99937.59\n32     97427.84\n16    126992.93\n42     71498.49\n20    118474.03\n43     69758.98\n8     152211.77\n13    134307.35\n25    107404.34\n5     156991.12\n17    125370.37\n40     78239.91\n49     14681.40\n1     191792.06\n12    141585.52\n37     89949.14\n24    108552.04\n6     156122.51\n23    108733.99\n36     90708.19\n21    111313.02\n19    122776.86\n9     149759.96\n39     81005.76\n46     49490.75\n3     182901.99\n0     192261.83\n47     42559.73\n44     65200.33\nName: Profit, dtype: float64"
     },
     "execution_count": 455,
     "metadata": {},
     "output_type": "execute_result"
    }
   ],
   "source": [
    "y_train"
   ],
   "metadata": {
    "collapsed": false,
    "pycharm": {
     "name": "#%%\n"
    }
   }
  },
  {
   "cell_type": "code",
   "execution_count": 456,
   "outputs": [
    {
     "data": {
      "text/plain": "array([[1.0000000e+00, 0.0000000e+00, 6.6051520e+04, 1.8264556e+05,\n        1.1814820e+05],\n       [0.0000000e+00, 0.0000000e+00, 1.0067196e+05, 9.1790610e+04,\n        2.4974455e+05],\n       [1.0000000e+00, 0.0000000e+00, 1.0191308e+05, 1.1059411e+05,\n        2.2916095e+05],\n       [1.0000000e+00, 0.0000000e+00, 2.7892920e+04, 8.4710770e+04,\n        1.6447071e+05],\n       [1.0000000e+00, 0.0000000e+00, 1.5344151e+05, 1.0114555e+05,\n        4.0793454e+05],\n       [0.0000000e+00, 1.0000000e+00, 7.2107600e+04, 1.2786455e+05,\n        3.5318381e+05],\n       [0.0000000e+00, 1.0000000e+00, 2.0229590e+04, 6.5947930e+04,\n        1.8526510e+05],\n       [0.0000000e+00, 1.0000000e+00, 6.1136380e+04, 1.5270192e+05,\n        8.8218230e+04],\n       [1.0000000e+00, 0.0000000e+00, 7.3994560e+04, 1.2278275e+05,\n        3.0331926e+05],\n       [1.0000000e+00, 0.0000000e+00, 1.4210734e+05, 9.1391770e+04,\n        3.6616842e+05]])"
     },
     "execution_count": 456,
     "metadata": {},
     "output_type": "execute_result"
    }
   ],
   "source": [
    "x_test"
   ],
   "metadata": {
    "collapsed": false,
    "pycharm": {
     "name": "#%%\n"
    }
   }
  },
  {
   "cell_type": "code",
   "execution_count": 457,
   "outputs": [
    {
     "data": {
      "text/plain": "28    103282.38\n11    144259.40\n10    146121.95\n41     77798.83\n2     191050.39\n27    105008.31\n38     81229.06\n31     97483.56\n22    110352.25\n4     166187.94\nName: Profit, dtype: float64"
     },
     "execution_count": 457,
     "metadata": {},
     "output_type": "execute_result"
    }
   ],
   "source": [
    "y_test"
   ],
   "metadata": {
    "collapsed": false,
    "pycharm": {
     "name": "#%%\n"
    }
   }
  },
  {
   "cell_type": "code",
   "execution_count": 458,
   "outputs": [
    {
     "data": {
      "text/plain": "LinearRegression()"
     },
     "execution_count": 458,
     "metadata": {},
     "output_type": "execute_result"
    }
   ],
   "source": [
    "# AJUSTE DEL MODELO\n",
    "\n",
    "from sklearn.linear_model import LinearRegression\n",
    "regression=LinearRegression()\n",
    "regression.fit(x_train, y_train) #La unica diferencia es que la regresion multiple tiene varias variables"
   ],
   "metadata": {
    "collapsed": false,
    "pycharm": {
     "name": "#%%\n"
    }
   }
  },
  {
   "cell_type": "code",
   "execution_count": 459,
   "outputs": [],
   "source": [
    "# PREDICCION DE LOS RESULTADOS\n",
    "\n",
    "y_pred=regression.predict(x_test)"
   ],
   "metadata": {
    "collapsed": false,
    "pycharm": {
     "name": "#%%\n"
    }
   }
  },
  {
   "cell_type": "code",
   "execution_count": 460,
   "outputs": [
    {
     "data": {
      "text/plain": "array([103015.20159796, 132582.27760816, 132447.73845175,  71976.09851259,\n       178537.48221054, 116161.24230163,  67851.69209676,  98791.73374688,\n       113969.43533012, 167921.0656955 ])"
     },
     "execution_count": 460,
     "metadata": {},
     "output_type": "execute_result"
    }
   ],
   "source": [
    "#El resultado de la prediccion y el resultado real es buena. No hay mucha variacion entre los resultados\n",
    "y_pred"
   ],
   "metadata": {
    "collapsed": false,
    "pycharm": {
     "name": "#%%\n"
    }
   }
  },
  {
   "cell_type": "code",
   "execution_count": 461,
   "outputs": [
    {
     "data": {
      "text/plain": "28    103282.38\n11    144259.40\n10    146121.95\n41     77798.83\n2     191050.39\n27    105008.31\n38     81229.06\n31     97483.56\n22    110352.25\n4     166187.94\nName: Profit, dtype: float64"
     },
     "execution_count": 461,
     "metadata": {},
     "output_type": "execute_result"
    }
   ],
   "source": [
    "y_test"
   ],
   "metadata": {
    "collapsed": false,
    "pycharm": {
     "name": "#%%\n"
    }
   }
  },
  {
   "cell_type": "code",
   "execution_count": 462,
   "outputs": [],
   "source": [
    "# ELIMINACION HACIA ATRAS\n",
    "\n",
    "#Libreria 'statsmodels' ayuda a anadir y quitar variables\n",
    "#La idea es falsa cuantas mas variables se tenga\n",
    "#La idea es saber cuales son las variables independientes deben formar el modelo\n",
    "#Si un coeficiente es cercano a cero, no deberia formar parte del modelo de regresion\n",
    "#Si el p-valor es alto, lo mas problable que sea cercano a cero\n",
    "\n",
    "#import statsmodels.formula.api as sm\n",
    "import statsmodels.regression.linear_model as sm"
   ],
   "metadata": {
    "collapsed": false,
    "pycharm": {
     "name": "#%%\n"
    }
   }
  },
  {
   "cell_type": "code",
   "execution_count": 463,
   "outputs": [],
   "source": [
    "#En el dataset x no se tiene una columna de termino independiente/coeficiente/ordenada en el origen (b0,b1,b2,..), es por eso que se agrega una columna de 1s\n",
    "#Con la columna de 1 se podra medir el p-valor de los coeficientes\n",
    "#Anadir columna de 1 al principio del dataset x\n",
    "x=np.append(arr=np.ones((50,1)).astype(int), values=x, axis=1) #(axis=1 anadir en columna; axis=0=anadir en fila)"
   ],
   "metadata": {
    "collapsed": false,
    "pycharm": {
     "name": "#%%\n"
    }
   }
  },
  {
   "cell_type": "code",
   "execution_count": 464,
   "outputs": [
    {
     "data": {
      "text/plain": "array([[1.0000000e+00, 0.0000000e+00, 1.0000000e+00, 1.6534920e+05,\n        1.3689780e+05, 4.7178410e+05],\n       [1.0000000e+00, 0.0000000e+00, 0.0000000e+00, 1.6259770e+05,\n        1.5137759e+05, 4.4389853e+05],\n       [1.0000000e+00, 1.0000000e+00, 0.0000000e+00, 1.5344151e+05,\n        1.0114555e+05, 4.0793454e+05],\n       [1.0000000e+00, 0.0000000e+00, 1.0000000e+00, 1.4437241e+05,\n        1.1867185e+05, 3.8319962e+05],\n       [1.0000000e+00, 1.0000000e+00, 0.0000000e+00, 1.4210734e+05,\n        9.1391770e+04, 3.6616842e+05],\n       [1.0000000e+00, 0.0000000e+00, 1.0000000e+00, 1.3187690e+05,\n        9.9814710e+04, 3.6286136e+05],\n       [1.0000000e+00, 0.0000000e+00, 0.0000000e+00, 1.3461546e+05,\n        1.4719887e+05, 1.2771682e+05],\n       [1.0000000e+00, 1.0000000e+00, 0.0000000e+00, 1.3029813e+05,\n        1.4553006e+05, 3.2387668e+05],\n       [1.0000000e+00, 0.0000000e+00, 1.0000000e+00, 1.2054252e+05,\n        1.4871895e+05, 3.1161329e+05],\n       [1.0000000e+00, 0.0000000e+00, 0.0000000e+00, 1.2333488e+05,\n        1.0867917e+05, 3.0498162e+05],\n       [1.0000000e+00, 1.0000000e+00, 0.0000000e+00, 1.0191308e+05,\n        1.1059411e+05, 2.2916095e+05],\n       [1.0000000e+00, 0.0000000e+00, 0.0000000e+00, 1.0067196e+05,\n        9.1790610e+04, 2.4974455e+05],\n       [1.0000000e+00, 1.0000000e+00, 0.0000000e+00, 9.3863750e+04,\n        1.2732038e+05, 2.4983944e+05],\n       [1.0000000e+00, 0.0000000e+00, 0.0000000e+00, 9.1992390e+04,\n        1.3549507e+05, 2.5266493e+05],\n       [1.0000000e+00, 1.0000000e+00, 0.0000000e+00, 1.1994324e+05,\n        1.5654742e+05, 2.5651292e+05],\n       [1.0000000e+00, 0.0000000e+00, 1.0000000e+00, 1.1452361e+05,\n        1.2261684e+05, 2.6177623e+05],\n       [1.0000000e+00, 0.0000000e+00, 0.0000000e+00, 7.8013110e+04,\n        1.2159755e+05, 2.6434606e+05],\n       [1.0000000e+00, 0.0000000e+00, 1.0000000e+00, 9.4657160e+04,\n        1.4507758e+05, 2.8257431e+05],\n       [1.0000000e+00, 1.0000000e+00, 0.0000000e+00, 9.1749160e+04,\n        1.1417579e+05, 2.9491957e+05],\n       [1.0000000e+00, 0.0000000e+00, 1.0000000e+00, 8.6419700e+04,\n        1.5351411e+05, 0.0000000e+00],\n       [1.0000000e+00, 0.0000000e+00, 0.0000000e+00, 7.6253860e+04,\n        1.1386730e+05, 2.9866447e+05],\n       [1.0000000e+00, 0.0000000e+00, 1.0000000e+00, 7.8389470e+04,\n        1.5377343e+05, 2.9973729e+05],\n       [1.0000000e+00, 1.0000000e+00, 0.0000000e+00, 7.3994560e+04,\n        1.2278275e+05, 3.0331926e+05],\n       [1.0000000e+00, 1.0000000e+00, 0.0000000e+00, 6.7532530e+04,\n        1.0575103e+05, 3.0476873e+05],\n       [1.0000000e+00, 0.0000000e+00, 1.0000000e+00, 7.7044010e+04,\n        9.9281340e+04, 1.4057481e+05],\n       [1.0000000e+00, 0.0000000e+00, 0.0000000e+00, 6.4664710e+04,\n        1.3955316e+05, 1.3796262e+05],\n       [1.0000000e+00, 1.0000000e+00, 0.0000000e+00, 7.5328870e+04,\n        1.4413598e+05, 1.3405007e+05],\n       [1.0000000e+00, 0.0000000e+00, 1.0000000e+00, 7.2107600e+04,\n        1.2786455e+05, 3.5318381e+05],\n       [1.0000000e+00, 1.0000000e+00, 0.0000000e+00, 6.6051520e+04,\n        1.8264556e+05, 1.1814820e+05],\n       [1.0000000e+00, 0.0000000e+00, 1.0000000e+00, 6.5605480e+04,\n        1.5303206e+05, 1.0713838e+05],\n       [1.0000000e+00, 1.0000000e+00, 0.0000000e+00, 6.1994480e+04,\n        1.1564128e+05, 9.1131240e+04],\n       [1.0000000e+00, 0.0000000e+00, 1.0000000e+00, 6.1136380e+04,\n        1.5270192e+05, 8.8218230e+04],\n       [1.0000000e+00, 0.0000000e+00, 0.0000000e+00, 6.3408860e+04,\n        1.2921961e+05, 4.6085250e+04],\n       [1.0000000e+00, 1.0000000e+00, 0.0000000e+00, 5.5493950e+04,\n        1.0305749e+05, 2.1463481e+05],\n       [1.0000000e+00, 0.0000000e+00, 0.0000000e+00, 4.6426070e+04,\n        1.5769392e+05, 2.1079767e+05],\n       [1.0000000e+00, 0.0000000e+00, 1.0000000e+00, 4.6014020e+04,\n        8.5047440e+04, 2.0551764e+05],\n       [1.0000000e+00, 1.0000000e+00, 0.0000000e+00, 2.8663760e+04,\n        1.2705621e+05, 2.0112682e+05],\n       [1.0000000e+00, 0.0000000e+00, 0.0000000e+00, 4.4069950e+04,\n        5.1283140e+04, 1.9702942e+05],\n       [1.0000000e+00, 0.0000000e+00, 1.0000000e+00, 2.0229590e+04,\n        6.5947930e+04, 1.8526510e+05],\n       [1.0000000e+00, 0.0000000e+00, 0.0000000e+00, 3.8558510e+04,\n        8.2982090e+04, 1.7499930e+05],\n       [1.0000000e+00, 0.0000000e+00, 0.0000000e+00, 2.8754330e+04,\n        1.1854605e+05, 1.7279567e+05],\n       [1.0000000e+00, 1.0000000e+00, 0.0000000e+00, 2.7892920e+04,\n        8.4710770e+04, 1.6447071e+05],\n       [1.0000000e+00, 0.0000000e+00, 0.0000000e+00, 2.3640930e+04,\n        9.6189630e+04, 1.4800111e+05],\n       [1.0000000e+00, 0.0000000e+00, 1.0000000e+00, 1.5505730e+04,\n        1.2738230e+05, 3.5534170e+04],\n       [1.0000000e+00, 0.0000000e+00, 0.0000000e+00, 2.2177740e+04,\n        1.5480614e+05, 2.8334720e+04],\n       [1.0000000e+00, 0.0000000e+00, 1.0000000e+00, 1.0002300e+03,\n        1.2415304e+05, 1.9039300e+03],\n       [1.0000000e+00, 1.0000000e+00, 0.0000000e+00, 1.3154600e+03,\n        1.1581621e+05, 2.9711446e+05],\n       [1.0000000e+00, 0.0000000e+00, 0.0000000e+00, 0.0000000e+00,\n        1.3542692e+05, 0.0000000e+00],\n       [1.0000000e+00, 0.0000000e+00, 1.0000000e+00, 5.4205000e+02,\n        5.1743150e+04, 0.0000000e+00],\n       [1.0000000e+00, 0.0000000e+00, 0.0000000e+00, 0.0000000e+00,\n        1.1698380e+05, 4.5173060e+04]])"
     },
     "execution_count": 464,
     "metadata": {},
     "output_type": "execute_result"
    }
   ],
   "source": [
    "x"
   ],
   "metadata": {
    "collapsed": false,
    "pycharm": {
     "name": "#%%\n"
    }
   }
  },
  {
   "cell_type": "code",
   "execution_count": 465,
   "outputs": [],
   "source": [
    "#PASO 1: Seleccionar el nivel de significacion (SL) para pertenecer al modelo\n",
    "SL=0.05"
   ],
   "metadata": {
    "collapsed": false,
    "pycharm": {
     "name": "#%%\n"
    }
   }
  },
  {
   "cell_type": "code",
   "execution_count": 466,
   "outputs": [
    {
     "data": {
      "text/plain": "<class 'statsmodels.iolib.summary.Summary'>\n\"\"\"\n                            OLS Regression Results                            \n==============================================================================\nDep. Variable:                 Profit   R-squared:                       0.951\nModel:                            OLS   Adj. R-squared:                  0.945\nMethod:                 Least Squares   F-statistic:                     169.9\nDate:                Mon, 16 May 2022   Prob (F-statistic):           1.34e-27\nTime:                        16:11:10   Log-Likelihood:                -525.38\nNo. Observations:                  50   AIC:                             1063.\nDf Residuals:                      44   BIC:                             1074.\nDf Model:                           5                                         \nCovariance Type:            nonrobust                                         \n==============================================================================\n                 coef    std err          t      P>|t|      [0.025      0.975]\n------------------------------------------------------------------------------\nconst       5.013e+04   6884.820      7.281      0.000    3.62e+04     6.4e+04\nx1           198.7888   3371.007      0.059      0.953   -6595.030    6992.607\nx2           -41.8870   3256.039     -0.013      0.990   -6604.003    6520.229\nx3             0.8060      0.046     17.369      0.000       0.712       0.900\nx4            -0.0270      0.052     -0.517      0.608      -0.132       0.078\nx5             0.0270      0.017      1.574      0.123      -0.008       0.062\n==============================================================================\nOmnibus:                       14.782   Durbin-Watson:                   1.283\nProb(Omnibus):                  0.001   Jarque-Bera (JB):               21.266\nSkew:                          -0.948   Prob(JB):                     2.41e-05\nKurtosis:                       5.572   Cond. No.                     1.45e+06\n==============================================================================\n\nNotes:\n[1] Standard Errors assume that the covariance matrix of the errors is correctly specified.\n[2] The condition number is large, 1.45e+06. This might indicate that there are\nstrong multicollinearity or other numerical problems.\n\"\"\"",
      "text/html": "<table class=\"simpletable\">\n<caption>OLS Regression Results</caption>\n<tr>\n  <th>Dep. Variable:</th>         <td>Profit</td>      <th>  R-squared:         </th> <td>   0.951</td>\n</tr>\n<tr>\n  <th>Model:</th>                   <td>OLS</td>       <th>  Adj. R-squared:    </th> <td>   0.945</td>\n</tr>\n<tr>\n  <th>Method:</th>             <td>Least Squares</td>  <th>  F-statistic:       </th> <td>   169.9</td>\n</tr>\n<tr>\n  <th>Date:</th>             <td>Mon, 16 May 2022</td> <th>  Prob (F-statistic):</th> <td>1.34e-27</td>\n</tr>\n<tr>\n  <th>Time:</th>                 <td>16:11:10</td>     <th>  Log-Likelihood:    </th> <td> -525.38</td>\n</tr>\n<tr>\n  <th>No. Observations:</th>      <td>    50</td>      <th>  AIC:               </th> <td>   1063.</td>\n</tr>\n<tr>\n  <th>Df Residuals:</th>          <td>    44</td>      <th>  BIC:               </th> <td>   1074.</td>\n</tr>\n<tr>\n  <th>Df Model:</th>              <td>     5</td>      <th>                     </th>     <td> </td>   \n</tr>\n<tr>\n  <th>Covariance Type:</th>      <td>nonrobust</td>    <th>                     </th>     <td> </td>   \n</tr>\n</table>\n<table class=\"simpletable\">\n<tr>\n    <td></td>       <th>coef</th>     <th>std err</th>      <th>t</th>      <th>P>|t|</th>  <th>[0.025</th>    <th>0.975]</th>  \n</tr>\n<tr>\n  <th>const</th> <td> 5.013e+04</td> <td> 6884.820</td> <td>    7.281</td> <td> 0.000</td> <td> 3.62e+04</td> <td>  6.4e+04</td>\n</tr>\n<tr>\n  <th>x1</th>    <td>  198.7888</td> <td> 3371.007</td> <td>    0.059</td> <td> 0.953</td> <td>-6595.030</td> <td> 6992.607</td>\n</tr>\n<tr>\n  <th>x2</th>    <td>  -41.8870</td> <td> 3256.039</td> <td>   -0.013</td> <td> 0.990</td> <td>-6604.003</td> <td> 6520.229</td>\n</tr>\n<tr>\n  <th>x3</th>    <td>    0.8060</td> <td>    0.046</td> <td>   17.369</td> <td> 0.000</td> <td>    0.712</td> <td>    0.900</td>\n</tr>\n<tr>\n  <th>x4</th>    <td>   -0.0270</td> <td>    0.052</td> <td>   -0.517</td> <td> 0.608</td> <td>   -0.132</td> <td>    0.078</td>\n</tr>\n<tr>\n  <th>x5</th>    <td>    0.0270</td> <td>    0.017</td> <td>    1.574</td> <td> 0.123</td> <td>   -0.008</td> <td>    0.062</td>\n</tr>\n</table>\n<table class=\"simpletable\">\n<tr>\n  <th>Omnibus:</th>       <td>14.782</td> <th>  Durbin-Watson:     </th> <td>   1.283</td>\n</tr>\n<tr>\n  <th>Prob(Omnibus):</th> <td> 0.001</td> <th>  Jarque-Bera (JB):  </th> <td>  21.266</td>\n</tr>\n<tr>\n  <th>Skew:</th>          <td>-0.948</td> <th>  Prob(JB):          </th> <td>2.41e-05</td>\n</tr>\n<tr>\n  <th>Kurtosis:</th>      <td> 5.572</td> <th>  Cond. No.          </th> <td>1.45e+06</td>\n</tr>\n</table><br/><br/>Notes:<br/>[1] Standard Errors assume that the covariance matrix of the errors is correctly specified.<br/>[2] The condition number is large, 1.45e+06. This might indicate that there are<br/>strong multicollinearity or other numerical problems."
     },
     "execution_count": 466,
     "metadata": {},
     "output_type": "execute_result"
    }
   ],
   "source": [
    "#PASO 2: Se calcula el modelo con todas las posibles variables predictoras\n",
    "\n",
    "#Una variable predictora permanece en el modelo si es menor a SL\n",
    "#La libreria de statsmodels necesita volver a crear el modelo de nuevo, genera una estructura diferencte al LinearRegression()\n",
    "#OLS=Ordinary List Square\n",
    "#Utiliza la tecnica de los minimos cuadrados\n",
    "#OLS, vuelve a generar la regresion linal multiple\n",
    "#summary de OLS devuelve un p_valor de cada variable predictora\n",
    "#endog=variable endogeneas/intrinsecas\n",
    "#exog=variable externa/matriz de caracteristicas\n",
    "\n",
    "x_opt=x[:,[0,1,2,3,4,5]].tolist() #x_opt es un dataset de caracteristicas optimas\n",
    "regression_OLS=sm.OLS(endog=y,exog=x_opt).fit() #Nuevo regresor, diferente al LinearRegression(). Se vuelve ajustar el modelo con fit()\n",
    "regression_OLS.summary() #Devuelve un p-valor para cada variable independiente"
   ],
   "metadata": {
    "collapsed": false,
    "pycharm": {
     "name": "#%%\n"
    }
   }
  },
  {
   "cell_type": "code",
   "execution_count": 467,
   "outputs": [
    {
     "data": {
      "text/plain": "<class 'statsmodels.iolib.summary.Summary'>\n\"\"\"\n                            OLS Regression Results                            \n==============================================================================\nDep. Variable:                 Profit   R-squared:                       0.951\nModel:                            OLS   Adj. R-squared:                  0.946\nMethod:                 Least Squares   F-statistic:                     217.2\nDate:                Mon, 16 May 2022   Prob (F-statistic):           8.49e-29\nTime:                        16:11:10   Log-Likelihood:                -525.38\nNo. Observations:                  50   AIC:                             1061.\nDf Residuals:                      45   BIC:                             1070.\nDf Model:                           4                                         \nCovariance Type:            nonrobust                                         \n==============================================================================\n                 coef    std err          t      P>|t|      [0.025      0.975]\n------------------------------------------------------------------------------\nconst       5.011e+04   6647.870      7.537      0.000    3.67e+04    6.35e+04\nx1           220.1585   2900.536      0.076      0.940   -5621.821    6062.138\nx2             0.8060      0.046     17.606      0.000       0.714       0.898\nx3            -0.0270      0.052     -0.523      0.604      -0.131       0.077\nx4             0.0270      0.017      1.592      0.118      -0.007       0.061\n==============================================================================\nOmnibus:                       14.758   Durbin-Watson:                   1.282\nProb(Omnibus):                  0.001   Jarque-Bera (JB):               21.172\nSkew:                          -0.948   Prob(JB):                     2.53e-05\nKurtosis:                       5.563   Cond. No.                     1.40e+06\n==============================================================================\n\nNotes:\n[1] Standard Errors assume that the covariance matrix of the errors is correctly specified.\n[2] The condition number is large, 1.4e+06. This might indicate that there are\nstrong multicollinearity or other numerical problems.\n\"\"\"",
      "text/html": "<table class=\"simpletable\">\n<caption>OLS Regression Results</caption>\n<tr>\n  <th>Dep. Variable:</th>         <td>Profit</td>      <th>  R-squared:         </th> <td>   0.951</td>\n</tr>\n<tr>\n  <th>Model:</th>                   <td>OLS</td>       <th>  Adj. R-squared:    </th> <td>   0.946</td>\n</tr>\n<tr>\n  <th>Method:</th>             <td>Least Squares</td>  <th>  F-statistic:       </th> <td>   217.2</td>\n</tr>\n<tr>\n  <th>Date:</th>             <td>Mon, 16 May 2022</td> <th>  Prob (F-statistic):</th> <td>8.49e-29</td>\n</tr>\n<tr>\n  <th>Time:</th>                 <td>16:11:10</td>     <th>  Log-Likelihood:    </th> <td> -525.38</td>\n</tr>\n<tr>\n  <th>No. Observations:</th>      <td>    50</td>      <th>  AIC:               </th> <td>   1061.</td>\n</tr>\n<tr>\n  <th>Df Residuals:</th>          <td>    45</td>      <th>  BIC:               </th> <td>   1070.</td>\n</tr>\n<tr>\n  <th>Df Model:</th>              <td>     4</td>      <th>                     </th>     <td> </td>   \n</tr>\n<tr>\n  <th>Covariance Type:</th>      <td>nonrobust</td>    <th>                     </th>     <td> </td>   \n</tr>\n</table>\n<table class=\"simpletable\">\n<tr>\n    <td></td>       <th>coef</th>     <th>std err</th>      <th>t</th>      <th>P>|t|</th>  <th>[0.025</th>    <th>0.975]</th>  \n</tr>\n<tr>\n  <th>const</th> <td> 5.011e+04</td> <td> 6647.870</td> <td>    7.537</td> <td> 0.000</td> <td> 3.67e+04</td> <td> 6.35e+04</td>\n</tr>\n<tr>\n  <th>x1</th>    <td>  220.1585</td> <td> 2900.536</td> <td>    0.076</td> <td> 0.940</td> <td>-5621.821</td> <td> 6062.138</td>\n</tr>\n<tr>\n  <th>x2</th>    <td>    0.8060</td> <td>    0.046</td> <td>   17.606</td> <td> 0.000</td> <td>    0.714</td> <td>    0.898</td>\n</tr>\n<tr>\n  <th>x3</th>    <td>   -0.0270</td> <td>    0.052</td> <td>   -0.523</td> <td> 0.604</td> <td>   -0.131</td> <td>    0.077</td>\n</tr>\n<tr>\n  <th>x4</th>    <td>    0.0270</td> <td>    0.017</td> <td>    1.592</td> <td> 0.118</td> <td>   -0.007</td> <td>    0.061</td>\n</tr>\n</table>\n<table class=\"simpletable\">\n<tr>\n  <th>Omnibus:</th>       <td>14.758</td> <th>  Durbin-Watson:     </th> <td>   1.282</td>\n</tr>\n<tr>\n  <th>Prob(Omnibus):</th> <td> 0.001</td> <th>  Jarque-Bera (JB):  </th> <td>  21.172</td>\n</tr>\n<tr>\n  <th>Skew:</th>          <td>-0.948</td> <th>  Prob(JB):          </th> <td>2.53e-05</td>\n</tr>\n<tr>\n  <th>Kurtosis:</th>      <td> 5.563</td> <th>  Cond. No.          </th> <td>1.40e+06</td>\n</tr>\n</table><br/><br/>Notes:<br/>[1] Standard Errors assume that the covariance matrix of the errors is correctly specified.<br/>[2] The condition number is large, 1.4e+06. This might indicate that there are<br/>strong multicollinearity or other numerical problems."
     },
     "execution_count": 467,
     "metadata": {},
     "output_type": "execute_result"
    }
   ],
   "source": [
    "x_opt=x[:,[0,1,3,4,5]].tolist()\n",
    "regression_OLS=sm.OLS(endog=y,exog=x_opt).fit()\n",
    "regression_OLS.summary()"
   ],
   "metadata": {
    "collapsed": false,
    "pycharm": {
     "name": "#%%\n"
    }
   }
  },
  {
   "cell_type": "code",
   "execution_count": 468,
   "outputs": [
    {
     "data": {
      "text/plain": "<class 'statsmodels.iolib.summary.Summary'>\n\"\"\"\n                            OLS Regression Results                            \n==============================================================================\nDep. Variable:                 Profit   R-squared:                       0.951\nModel:                            OLS   Adj. R-squared:                  0.948\nMethod:                 Least Squares   F-statistic:                     296.0\nDate:                Mon, 16 May 2022   Prob (F-statistic):           4.53e-30\nTime:                        16:11:10   Log-Likelihood:                -525.39\nNo. Observations:                  50   AIC:                             1059.\nDf Residuals:                      46   BIC:                             1066.\nDf Model:                           3                                         \nCovariance Type:            nonrobust                                         \n==============================================================================\n                 coef    std err          t      P>|t|      [0.025      0.975]\n------------------------------------------------------------------------------\nconst       5.012e+04   6572.353      7.626      0.000    3.69e+04    6.34e+04\nx1             0.8057      0.045     17.846      0.000       0.715       0.897\nx2            -0.0268      0.051     -0.526      0.602      -0.130       0.076\nx3             0.0272      0.016      1.655      0.105      -0.006       0.060\n==============================================================================\nOmnibus:                       14.838   Durbin-Watson:                   1.282\nProb(Omnibus):                  0.001   Jarque-Bera (JB):               21.442\nSkew:                          -0.949   Prob(JB):                     2.21e-05\nKurtosis:                       5.586   Cond. No.                     1.40e+06\n==============================================================================\n\nNotes:\n[1] Standard Errors assume that the covariance matrix of the errors is correctly specified.\n[2] The condition number is large, 1.4e+06. This might indicate that there are\nstrong multicollinearity or other numerical problems.\n\"\"\"",
      "text/html": "<table class=\"simpletable\">\n<caption>OLS Regression Results</caption>\n<tr>\n  <th>Dep. Variable:</th>         <td>Profit</td>      <th>  R-squared:         </th> <td>   0.951</td>\n</tr>\n<tr>\n  <th>Model:</th>                   <td>OLS</td>       <th>  Adj. R-squared:    </th> <td>   0.948</td>\n</tr>\n<tr>\n  <th>Method:</th>             <td>Least Squares</td>  <th>  F-statistic:       </th> <td>   296.0</td>\n</tr>\n<tr>\n  <th>Date:</th>             <td>Mon, 16 May 2022</td> <th>  Prob (F-statistic):</th> <td>4.53e-30</td>\n</tr>\n<tr>\n  <th>Time:</th>                 <td>16:11:10</td>     <th>  Log-Likelihood:    </th> <td> -525.39</td>\n</tr>\n<tr>\n  <th>No. Observations:</th>      <td>    50</td>      <th>  AIC:               </th> <td>   1059.</td>\n</tr>\n<tr>\n  <th>Df Residuals:</th>          <td>    46</td>      <th>  BIC:               </th> <td>   1066.</td>\n</tr>\n<tr>\n  <th>Df Model:</th>              <td>     3</td>      <th>                     </th>     <td> </td>   \n</tr>\n<tr>\n  <th>Covariance Type:</th>      <td>nonrobust</td>    <th>                     </th>     <td> </td>   \n</tr>\n</table>\n<table class=\"simpletable\">\n<tr>\n    <td></td>       <th>coef</th>     <th>std err</th>      <th>t</th>      <th>P>|t|</th>  <th>[0.025</th>    <th>0.975]</th>  \n</tr>\n<tr>\n  <th>const</th> <td> 5.012e+04</td> <td> 6572.353</td> <td>    7.626</td> <td> 0.000</td> <td> 3.69e+04</td> <td> 6.34e+04</td>\n</tr>\n<tr>\n  <th>x1</th>    <td>    0.8057</td> <td>    0.045</td> <td>   17.846</td> <td> 0.000</td> <td>    0.715</td> <td>    0.897</td>\n</tr>\n<tr>\n  <th>x2</th>    <td>   -0.0268</td> <td>    0.051</td> <td>   -0.526</td> <td> 0.602</td> <td>   -0.130</td> <td>    0.076</td>\n</tr>\n<tr>\n  <th>x3</th>    <td>    0.0272</td> <td>    0.016</td> <td>    1.655</td> <td> 0.105</td> <td>   -0.006</td> <td>    0.060</td>\n</tr>\n</table>\n<table class=\"simpletable\">\n<tr>\n  <th>Omnibus:</th>       <td>14.838</td> <th>  Durbin-Watson:     </th> <td>   1.282</td>\n</tr>\n<tr>\n  <th>Prob(Omnibus):</th> <td> 0.001</td> <th>  Jarque-Bera (JB):  </th> <td>  21.442</td>\n</tr>\n<tr>\n  <th>Skew:</th>          <td>-0.949</td> <th>  Prob(JB):          </th> <td>2.21e-05</td>\n</tr>\n<tr>\n  <th>Kurtosis:</th>      <td> 5.586</td> <th>  Cond. No.          </th> <td>1.40e+06</td>\n</tr>\n</table><br/><br/>Notes:<br/>[1] Standard Errors assume that the covariance matrix of the errors is correctly specified.<br/>[2] The condition number is large, 1.4e+06. This might indicate that there are<br/>strong multicollinearity or other numerical problems."
     },
     "execution_count": 468,
     "metadata": {},
     "output_type": "execute_result"
    }
   ],
   "source": [
    "x_opt=x[:,[0,3,4,5]].tolist()\n",
    "regression_OLS=sm.OLS(endog=y,exog=x_opt).fit()\n",
    "regression_OLS.summary()"
   ],
   "metadata": {
    "collapsed": false,
    "pycharm": {
     "name": "#%%\n"
    }
   }
  },
  {
   "cell_type": "code",
   "execution_count": 469,
   "outputs": [
    {
     "data": {
      "text/plain": "<class 'statsmodels.iolib.summary.Summary'>\n\"\"\"\n                            OLS Regression Results                            \n==============================================================================\nDep. Variable:                 Profit   R-squared:                       0.950\nModel:                            OLS   Adj. R-squared:                  0.948\nMethod:                 Least Squares   F-statistic:                     450.8\nDate:                Mon, 16 May 2022   Prob (F-statistic):           2.16e-31\nTime:                        16:11:10   Log-Likelihood:                -525.54\nNo. Observations:                  50   AIC:                             1057.\nDf Residuals:                      47   BIC:                             1063.\nDf Model:                           2                                         \nCovariance Type:            nonrobust                                         \n==============================================================================\n                 coef    std err          t      P>|t|      [0.025      0.975]\n------------------------------------------------------------------------------\nconst       4.698e+04   2689.933     17.464      0.000    4.16e+04    5.24e+04\nx1             0.7966      0.041     19.266      0.000       0.713       0.880\nx2             0.0299      0.016      1.927      0.060      -0.001       0.061\n==============================================================================\nOmnibus:                       14.677   Durbin-Watson:                   1.257\nProb(Omnibus):                  0.001   Jarque-Bera (JB):               21.161\nSkew:                          -0.939   Prob(JB):                     2.54e-05\nKurtosis:                       5.575   Cond. No.                     5.32e+05\n==============================================================================\n\nNotes:\n[1] Standard Errors assume that the covariance matrix of the errors is correctly specified.\n[2] The condition number is large, 5.32e+05. This might indicate that there are\nstrong multicollinearity or other numerical problems.\n\"\"\"",
      "text/html": "<table class=\"simpletable\">\n<caption>OLS Regression Results</caption>\n<tr>\n  <th>Dep. Variable:</th>         <td>Profit</td>      <th>  R-squared:         </th> <td>   0.950</td>\n</tr>\n<tr>\n  <th>Model:</th>                   <td>OLS</td>       <th>  Adj. R-squared:    </th> <td>   0.948</td>\n</tr>\n<tr>\n  <th>Method:</th>             <td>Least Squares</td>  <th>  F-statistic:       </th> <td>   450.8</td>\n</tr>\n<tr>\n  <th>Date:</th>             <td>Mon, 16 May 2022</td> <th>  Prob (F-statistic):</th> <td>2.16e-31</td>\n</tr>\n<tr>\n  <th>Time:</th>                 <td>16:11:10</td>     <th>  Log-Likelihood:    </th> <td> -525.54</td>\n</tr>\n<tr>\n  <th>No. Observations:</th>      <td>    50</td>      <th>  AIC:               </th> <td>   1057.</td>\n</tr>\n<tr>\n  <th>Df Residuals:</th>          <td>    47</td>      <th>  BIC:               </th> <td>   1063.</td>\n</tr>\n<tr>\n  <th>Df Model:</th>              <td>     2</td>      <th>                     </th>     <td> </td>   \n</tr>\n<tr>\n  <th>Covariance Type:</th>      <td>nonrobust</td>    <th>                     </th>     <td> </td>   \n</tr>\n</table>\n<table class=\"simpletable\">\n<tr>\n    <td></td>       <th>coef</th>     <th>std err</th>      <th>t</th>      <th>P>|t|</th>  <th>[0.025</th>    <th>0.975]</th>  \n</tr>\n<tr>\n  <th>const</th> <td> 4.698e+04</td> <td> 2689.933</td> <td>   17.464</td> <td> 0.000</td> <td> 4.16e+04</td> <td> 5.24e+04</td>\n</tr>\n<tr>\n  <th>x1</th>    <td>    0.7966</td> <td>    0.041</td> <td>   19.266</td> <td> 0.000</td> <td>    0.713</td> <td>    0.880</td>\n</tr>\n<tr>\n  <th>x2</th>    <td>    0.0299</td> <td>    0.016</td> <td>    1.927</td> <td> 0.060</td> <td>   -0.001</td> <td>    0.061</td>\n</tr>\n</table>\n<table class=\"simpletable\">\n<tr>\n  <th>Omnibus:</th>       <td>14.677</td> <th>  Durbin-Watson:     </th> <td>   1.257</td>\n</tr>\n<tr>\n  <th>Prob(Omnibus):</th> <td> 0.001</td> <th>  Jarque-Bera (JB):  </th> <td>  21.161</td>\n</tr>\n<tr>\n  <th>Skew:</th>          <td>-0.939</td> <th>  Prob(JB):          </th> <td>2.54e-05</td>\n</tr>\n<tr>\n  <th>Kurtosis:</th>      <td> 5.575</td> <th>  Cond. No.          </th> <td>5.32e+05</td>\n</tr>\n</table><br/><br/>Notes:<br/>[1] Standard Errors assume that the covariance matrix of the errors is correctly specified.<br/>[2] The condition number is large, 5.32e+05. This might indicate that there are<br/>strong multicollinearity or other numerical problems."
     },
     "execution_count": 469,
     "metadata": {},
     "output_type": "execute_result"
    }
   ],
   "source": [
    "x_opt=x[:,[0,3,5]].tolist()\n",
    "regression_OLS=sm.OLS(endog=y,exog=x_opt).fit()\n",
    "regression_OLS.summary()"
   ],
   "metadata": {
    "collapsed": false,
    "pycharm": {
     "name": "#%%\n"
    }
   }
  },
  {
   "cell_type": "code",
   "execution_count": 470,
   "outputs": [
    {
     "data": {
      "text/plain": "<class 'statsmodels.iolib.summary.Summary'>\n\"\"\"\n                            OLS Regression Results                            \n==============================================================================\nDep. Variable:                 Profit   R-squared:                       0.947\nModel:                            OLS   Adj. R-squared:                  0.945\nMethod:                 Least Squares   F-statistic:                     849.8\nDate:                Mon, 16 May 2022   Prob (F-statistic):           3.50e-32\nTime:                        16:11:10   Log-Likelihood:                -527.44\nNo. Observations:                  50   AIC:                             1059.\nDf Residuals:                      48   BIC:                             1063.\nDf Model:                           1                                         \nCovariance Type:            nonrobust                                         \n==============================================================================\n                 coef    std err          t      P>|t|      [0.025      0.975]\n------------------------------------------------------------------------------\nconst       4.903e+04   2537.897     19.320      0.000    4.39e+04    5.41e+04\nx1             0.8543      0.029     29.151      0.000       0.795       0.913\n==============================================================================\nOmnibus:                       13.727   Durbin-Watson:                   1.116\nProb(Omnibus):                  0.001   Jarque-Bera (JB):               18.536\nSkew:                          -0.911   Prob(JB):                     9.44e-05\nKurtosis:                       5.361   Cond. No.                     1.65e+05\n==============================================================================\n\nNotes:\n[1] Standard Errors assume that the covariance matrix of the errors is correctly specified.\n[2] The condition number is large, 1.65e+05. This might indicate that there are\nstrong multicollinearity or other numerical problems.\n\"\"\"",
      "text/html": "<table class=\"simpletable\">\n<caption>OLS Regression Results</caption>\n<tr>\n  <th>Dep. Variable:</th>         <td>Profit</td>      <th>  R-squared:         </th> <td>   0.947</td>\n</tr>\n<tr>\n  <th>Model:</th>                   <td>OLS</td>       <th>  Adj. R-squared:    </th> <td>   0.945</td>\n</tr>\n<tr>\n  <th>Method:</th>             <td>Least Squares</td>  <th>  F-statistic:       </th> <td>   849.8</td>\n</tr>\n<tr>\n  <th>Date:</th>             <td>Mon, 16 May 2022</td> <th>  Prob (F-statistic):</th> <td>3.50e-32</td>\n</tr>\n<tr>\n  <th>Time:</th>                 <td>16:11:10</td>     <th>  Log-Likelihood:    </th> <td> -527.44</td>\n</tr>\n<tr>\n  <th>No. Observations:</th>      <td>    50</td>      <th>  AIC:               </th> <td>   1059.</td>\n</tr>\n<tr>\n  <th>Df Residuals:</th>          <td>    48</td>      <th>  BIC:               </th> <td>   1063.</td>\n</tr>\n<tr>\n  <th>Df Model:</th>              <td>     1</td>      <th>                     </th>     <td> </td>   \n</tr>\n<tr>\n  <th>Covariance Type:</th>      <td>nonrobust</td>    <th>                     </th>     <td> </td>   \n</tr>\n</table>\n<table class=\"simpletable\">\n<tr>\n    <td></td>       <th>coef</th>     <th>std err</th>      <th>t</th>      <th>P>|t|</th>  <th>[0.025</th>    <th>0.975]</th>  \n</tr>\n<tr>\n  <th>const</th> <td> 4.903e+04</td> <td> 2537.897</td> <td>   19.320</td> <td> 0.000</td> <td> 4.39e+04</td> <td> 5.41e+04</td>\n</tr>\n<tr>\n  <th>x1</th>    <td>    0.8543</td> <td>    0.029</td> <td>   29.151</td> <td> 0.000</td> <td>    0.795</td> <td>    0.913</td>\n</tr>\n</table>\n<table class=\"simpletable\">\n<tr>\n  <th>Omnibus:</th>       <td>13.727</td> <th>  Durbin-Watson:     </th> <td>   1.116</td>\n</tr>\n<tr>\n  <th>Prob(Omnibus):</th> <td> 0.001</td> <th>  Jarque-Bera (JB):  </th> <td>  18.536</td>\n</tr>\n<tr>\n  <th>Skew:</th>          <td>-0.911</td> <th>  Prob(JB):          </th> <td>9.44e-05</td>\n</tr>\n<tr>\n  <th>Kurtosis:</th>      <td> 5.361</td> <th>  Cond. No.          </th> <td>1.65e+05</td>\n</tr>\n</table><br/><br/>Notes:<br/>[1] Standard Errors assume that the covariance matrix of the errors is correctly specified.<br/>[2] The condition number is large, 1.65e+05. This might indicate that there are<br/>strong multicollinearity or other numerical problems."
     },
     "execution_count": 470,
     "metadata": {},
     "output_type": "execute_result"
    }
   ],
   "source": [
    "#Conclusion:\n",
    "#El modelo se convierte en una regresion lineal simple\n",
    "#Le da igual el gasto en marketing o el estado donde esta ubicado la empresa\n",
    "#La mejor variable es el gasto en I+D, tiene un impacto tan fuerte en la prediccion que ha echo que las otras variables desaparescan\n",
    "#Nota: Para no eliminar las variables que esta en el limite del intervalo de confianza utilizar para interpretar el valor R-squared o AIC (indice de arcaique)\n",
    "x_opt=x[:,[0,3]].tolist()\n",
    "regression_OLS=sm.OLS(endog=y,exog=x_opt).fit()\n",
    "regression_OLS.summary()"
   ],
   "metadata": {
    "collapsed": false,
    "pycharm": {
     "name": "#%%\n"
    }
   }
  },
  {
   "cell_type": "code",
   "execution_count": 470,
   "outputs": [],
   "source": [],
   "metadata": {
    "collapsed": false,
    "pycharm": {
     "name": "#%%\n"
    }
   }
  }
 ],
 "metadata": {
  "kernelspec": {
   "display_name": "Python 3",
   "language": "python",
   "name": "python3"
  },
  "language_info": {
   "codemirror_mode": {
    "name": "ipython",
    "version": 2
   },
   "file_extension": ".py",
   "mimetype": "text/x-python",
   "name": "python",
   "nbconvert_exporter": "python",
   "pygments_lexer": "ipython2",
   "version": "2.7.6"
  }
 },
 "nbformat": 4,
 "nbformat_minor": 0
}