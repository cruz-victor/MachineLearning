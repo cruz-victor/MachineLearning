{
 "cells": [
  {
   "cell_type": "markdown",
   "source": [
    "## Plantilla de preprocesado"
   ],
   "metadata": {
    "collapsed": false,
    "pycharm": {
     "name": "#%% md\n"
    }
   }
  },
  {
   "cell_type": "code",
   "source": [
    "#numpy, libreria de python para el tratamiento de numeros (arrays: +,-,*,/)\n",
    "#matplotlib, libreria para graficar\n",
    "#pandas, libreria para manipular datos (excel)\n",
    "\n",
    "import numpy as np\n",
    "import pandas as pd\n",
    "import matplotlib.pyplot as plt"
   ],
   "metadata": {
    "collapsed": false,
    "pycharm": {
     "name": "#%%\n"
    }
   },
   "execution_count": 1,
   "outputs": []
  },
  {
   "cell_type": "code",
   "execution_count": 2,
   "outputs": [],
   "source": [
    "#Importar el dataset\n",
    "dataset=pd.read_csv('Resources/Data.csv')"
   ],
   "metadata": {
    "collapsed": false,
    "pycharm": {
     "name": "#%%\n"
    }
   }
  },
  {
   "cell_type": "code",
   "execution_count": 3,
   "outputs": [
    {
     "data": {
      "text/plain": "   Country   Age   Salary Purchased\n0   France  44.0  72000.0        No\n1    Spain  27.0  48000.0       Yes\n2  Germany  30.0  54000.0        No\n3    Spain  38.0  61000.0        No\n4  Germany  40.0      NaN       Yes\n5   France  35.0  58000.0       Yes\n6    Spain   NaN  52000.0        No\n7   France  48.0  79000.0       Yes\n8  Germany  50.0  83000.0        No\n9   France  37.0  67000.0       Yes",
      "text/html": "<div>\n<style scoped>\n    .dataframe tbody tr th:only-of-type {\n        vertical-align: middle;\n    }\n\n    .dataframe tbody tr th {\n        vertical-align: top;\n    }\n\n    .dataframe thead th {\n        text-align: right;\n    }\n</style>\n<table border=\"1\" class=\"dataframe\">\n  <thead>\n    <tr style=\"text-align: right;\">\n      <th></th>\n      <th>Country</th>\n      <th>Age</th>\n      <th>Salary</th>\n      <th>Purchased</th>\n    </tr>\n  </thead>\n  <tbody>\n    <tr>\n      <th>0</th>\n      <td>France</td>\n      <td>44.0</td>\n      <td>72000.0</td>\n      <td>No</td>\n    </tr>\n    <tr>\n      <th>1</th>\n      <td>Spain</td>\n      <td>27.0</td>\n      <td>48000.0</td>\n      <td>Yes</td>\n    </tr>\n    <tr>\n      <th>2</th>\n      <td>Germany</td>\n      <td>30.0</td>\n      <td>54000.0</td>\n      <td>No</td>\n    </tr>\n    <tr>\n      <th>3</th>\n      <td>Spain</td>\n      <td>38.0</td>\n      <td>61000.0</td>\n      <td>No</td>\n    </tr>\n    <tr>\n      <th>4</th>\n      <td>Germany</td>\n      <td>40.0</td>\n      <td>NaN</td>\n      <td>Yes</td>\n    </tr>\n    <tr>\n      <th>5</th>\n      <td>France</td>\n      <td>35.0</td>\n      <td>58000.0</td>\n      <td>Yes</td>\n    </tr>\n    <tr>\n      <th>6</th>\n      <td>Spain</td>\n      <td>NaN</td>\n      <td>52000.0</td>\n      <td>No</td>\n    </tr>\n    <tr>\n      <th>7</th>\n      <td>France</td>\n      <td>48.0</td>\n      <td>79000.0</td>\n      <td>Yes</td>\n    </tr>\n    <tr>\n      <th>8</th>\n      <td>Germany</td>\n      <td>50.0</td>\n      <td>83000.0</td>\n      <td>No</td>\n    </tr>\n    <tr>\n      <th>9</th>\n      <td>France</td>\n      <td>37.0</td>\n      <td>67000.0</td>\n      <td>Yes</td>\n    </tr>\n  </tbody>\n</table>\n</div>"
     },
     "execution_count": 3,
     "metadata": {},
     "output_type": "execute_result"
    }
   ],
   "source": [
    "#X son las variables independientes del algoritmo (Country, Age, Salary)\n",
    "#Y es la variable que se quiere precedir (Purchased=Comprado)\n",
    "#Observaciones son la filas\n",
    "dataset"
   ],
   "metadata": {
    "collapsed": false,
    "pycharm": {
     "name": "#%%\n"
    }
   }
  },
  {
   "cell_type": "code",
   "execution_count": 4,
   "outputs": [
    {
     "data": {
      "text/plain": "pandas.core.frame.DataFrame"
     },
     "execution_count": 4,
     "metadata": {},
     "output_type": "execute_result"
    }
   ],
   "source": [
    "type(dataset)"
   ],
   "metadata": {
    "collapsed": false,
    "pycharm": {
     "name": "#%%\n"
    }
   }
  },
  {
   "cell_type": "code",
   "execution_count": 5,
   "outputs": [],
   "source": [
    "x=dataset.iloc[:,:-1]"
   ],
   "metadata": {
    "collapsed": false,
    "pycharm": {
     "name": "#%%\n"
    }
   }
  },
  {
   "cell_type": "code",
   "execution_count": 6,
   "outputs": [],
   "source": [
    "y=dataset.iloc[:,3]"
   ],
   "metadata": {
    "collapsed": false,
    "pycharm": {
     "name": "#%%\n"
    }
   }
  },
  {
   "cell_type": "code",
   "execution_count": 7,
   "outputs": [
    {
     "data": {
      "text/plain": "   Country   Age   Salary\n0   France  44.0  72000.0\n1    Spain  27.0  48000.0\n2  Germany  30.0  54000.0\n3    Spain  38.0  61000.0\n4  Germany  40.0      NaN\n5   France  35.0  58000.0\n6    Spain   NaN  52000.0\n7   France  48.0  79000.0\n8  Germany  50.0  83000.0\n9   France  37.0  67000.0",
      "text/html": "<div>\n<style scoped>\n    .dataframe tbody tr th:only-of-type {\n        vertical-align: middle;\n    }\n\n    .dataframe tbody tr th {\n        vertical-align: top;\n    }\n\n    .dataframe thead th {\n        text-align: right;\n    }\n</style>\n<table border=\"1\" class=\"dataframe\">\n  <thead>\n    <tr style=\"text-align: right;\">\n      <th></th>\n      <th>Country</th>\n      <th>Age</th>\n      <th>Salary</th>\n    </tr>\n  </thead>\n  <tbody>\n    <tr>\n      <th>0</th>\n      <td>France</td>\n      <td>44.0</td>\n      <td>72000.0</td>\n    </tr>\n    <tr>\n      <th>1</th>\n      <td>Spain</td>\n      <td>27.0</td>\n      <td>48000.0</td>\n    </tr>\n    <tr>\n      <th>2</th>\n      <td>Germany</td>\n      <td>30.0</td>\n      <td>54000.0</td>\n    </tr>\n    <tr>\n      <th>3</th>\n      <td>Spain</td>\n      <td>38.0</td>\n      <td>61000.0</td>\n    </tr>\n    <tr>\n      <th>4</th>\n      <td>Germany</td>\n      <td>40.0</td>\n      <td>NaN</td>\n    </tr>\n    <tr>\n      <th>5</th>\n      <td>France</td>\n      <td>35.0</td>\n      <td>58000.0</td>\n    </tr>\n    <tr>\n      <th>6</th>\n      <td>Spain</td>\n      <td>NaN</td>\n      <td>52000.0</td>\n    </tr>\n    <tr>\n      <th>7</th>\n      <td>France</td>\n      <td>48.0</td>\n      <td>79000.0</td>\n    </tr>\n    <tr>\n      <th>8</th>\n      <td>Germany</td>\n      <td>50.0</td>\n      <td>83000.0</td>\n    </tr>\n    <tr>\n      <th>9</th>\n      <td>France</td>\n      <td>37.0</td>\n      <td>67000.0</td>\n    </tr>\n  </tbody>\n</table>\n</div>"
     },
     "execution_count": 7,
     "metadata": {},
     "output_type": "execute_result"
    }
   ],
   "source": [
    "x"
   ],
   "metadata": {
    "collapsed": false,
    "pycharm": {
     "name": "#%%\n"
    }
   }
  },
  {
   "cell_type": "code",
   "execution_count": 8,
   "outputs": [
    {
     "data": {
      "text/plain": "0     No\n1    Yes\n2     No\n3     No\n4    Yes\n5    Yes\n6     No\n7    Yes\n8     No\n9    Yes\nName: Purchased, dtype: object"
     },
     "execution_count": 8,
     "metadata": {},
     "output_type": "execute_result"
    }
   ],
   "source": [
    "y"
   ],
   "metadata": {
    "collapsed": false,
    "pycharm": {
     "name": "#%%\n"
    }
   }
  },
  {
   "cell_type": "code",
   "execution_count": 9,
   "outputs": [],
   "source": [
    "#TRATAMIENTO DE LOS NAN\n",
    "#Datos faltantes (NaN)\n",
    "#Resolver los NaN los antes posible\n",
    "#Tecnicas para llenar datos NaN:\n",
    "    #Eliminar la observacion (muy drastico y no recomendable)\n",
    "    #Remplazar por la media (primera opcion)\n",
    "\n",
    "#from sklearn.preprocessing import Imputer #antigua version\n",
    "from sklearn.impute import SimpleImputer"
   ],
   "metadata": {
    "collapsed": false,
    "pycharm": {
     "name": "#%%\n"
    }
   }
  },
  {
   "cell_type": "code",
   "execution_count": 10,
   "outputs": [],
   "source": [
    "#axis=0 es por columna; axis=1 es por fila\n",
    "imputer=SimpleImputer(missing_values=np.nan, strategy='mean')#Calculo de la media para cada columna\n",
    "\n",
    "imputer=imputer.fit(x.iloc[:,1:3]) #Ajustar los valores NaN. Ajustar con los valores de la media cada columna\n",
    "x.iloc[:,1:3]=imputer.transform(x.iloc[:,1:3])#Aplicar los valores ajustados al dataframe\n",
    "\n",
    "#imputer=imputer.fit(x[:,1:3])\n",
    "#x[:,1:3]=imputer.fit_transform(x[:,1:3])"
   ],
   "metadata": {
    "collapsed": false,
    "pycharm": {
     "name": "#%%\n"
    }
   }
  },
  {
   "cell_type": "code",
   "execution_count": 11,
   "outputs": [
    {
     "data": {
      "text/plain": "pandas.core.frame.DataFrame"
     },
     "execution_count": 11,
     "metadata": {},
     "output_type": "execute_result"
    }
   ],
   "source": [
    "type(x)"
   ],
   "metadata": {
    "collapsed": false,
    "pycharm": {
     "name": "#%%\n"
    }
   }
  },
  {
   "cell_type": "code",
   "execution_count": 12,
   "outputs": [
    {
     "data": {
      "text/plain": "   Country        Age        Salary\n0   France  44.000000  72000.000000\n1    Spain  27.000000  48000.000000\n2  Germany  30.000000  54000.000000\n3    Spain  38.000000  61000.000000\n4  Germany  40.000000  63777.777778\n5   France  35.000000  58000.000000\n6    Spain  38.777778  52000.000000\n7   France  48.000000  79000.000000\n8  Germany  50.000000  83000.000000\n9   France  37.000000  67000.000000",
      "text/html": "<div>\n<style scoped>\n    .dataframe tbody tr th:only-of-type {\n        vertical-align: middle;\n    }\n\n    .dataframe tbody tr th {\n        vertical-align: top;\n    }\n\n    .dataframe thead th {\n        text-align: right;\n    }\n</style>\n<table border=\"1\" class=\"dataframe\">\n  <thead>\n    <tr style=\"text-align: right;\">\n      <th></th>\n      <th>Country</th>\n      <th>Age</th>\n      <th>Salary</th>\n    </tr>\n  </thead>\n  <tbody>\n    <tr>\n      <th>0</th>\n      <td>France</td>\n      <td>44.000000</td>\n      <td>72000.000000</td>\n    </tr>\n    <tr>\n      <th>1</th>\n      <td>Spain</td>\n      <td>27.000000</td>\n      <td>48000.000000</td>\n    </tr>\n    <tr>\n      <th>2</th>\n      <td>Germany</td>\n      <td>30.000000</td>\n      <td>54000.000000</td>\n    </tr>\n    <tr>\n      <th>3</th>\n      <td>Spain</td>\n      <td>38.000000</td>\n      <td>61000.000000</td>\n    </tr>\n    <tr>\n      <th>4</th>\n      <td>Germany</td>\n      <td>40.000000</td>\n      <td>63777.777778</td>\n    </tr>\n    <tr>\n      <th>5</th>\n      <td>France</td>\n      <td>35.000000</td>\n      <td>58000.000000</td>\n    </tr>\n    <tr>\n      <th>6</th>\n      <td>Spain</td>\n      <td>38.777778</td>\n      <td>52000.000000</td>\n    </tr>\n    <tr>\n      <th>7</th>\n      <td>France</td>\n      <td>48.000000</td>\n      <td>79000.000000</td>\n    </tr>\n    <tr>\n      <th>8</th>\n      <td>Germany</td>\n      <td>50.000000</td>\n      <td>83000.000000</td>\n    </tr>\n    <tr>\n      <th>9</th>\n      <td>France</td>\n      <td>37.000000</td>\n      <td>67000.000000</td>\n    </tr>\n  </tbody>\n</table>\n</div>"
     },
     "execution_count": 12,
     "metadata": {},
     "output_type": "execute_result"
    }
   ],
   "source": [
    "x"
   ],
   "metadata": {
    "collapsed": false,
    "pycharm": {
     "name": "#%%\n"
    }
   }
  },
  {
   "cell_type": "code",
   "execution_count": 13,
   "outputs": [],
   "source": [
    "#DATOS CATEGORICOS\n",
    "\n",
    "#Existen dos tipos de variables: Categoricas y Numerica\n",
    "    #Categoricas (texto)\n",
    "        #Nominal (A,B,C)\n",
    "        #Ordinal (I,II,III)\n",
    "    #Numericas (numero)\n",
    "        #Discretas (1,2,3)\n",
    "        #Continuas (1.1, 2.5, 12.3)\n",
    "\n",
    "#Los datos categoricos son columnas que en lugar de contener un numero contiene valores para catologar (etiqueta)\n",
    "#En un modelo no se puede meter datos categoricos (no se pueden sumar datos categoricos)\n",
    "#Existen variables categoricas:\n",
    "    #nominal (no importa el orden)\n",
    "    #ordinal (importa el orden)\n",
    "#from sklearn.preprocessing import LabelEncoder, OneHotEncoder\n"
   ],
   "metadata": {
    "collapsed": false,
    "pycharm": {
     "name": "#%%\n"
    }
   }
  },
  {
   "cell_type": "code",
   "execution_count": 14,
   "outputs": [],
   "source": [
    "#NOTA: Para transformar una variable categorica nominal a numero ya no es necesario utilizar laberEnconder() y luego OneHotEncoder()\n",
    "#labelEncoder_x=LabelEncoder()\n",
    "\n",
    "#LabelEncoder, codifa texto a numero\n",
    "#OneHotEncoder, variable dummy, es una forma de traducir una categoria que no tiene un orden (nominal)\n",
    "\n",
    "#x.iloc[:,0]=labelEncoder_x.fit_transform(x.iloc[:,0])"
   ],
   "metadata": {
    "collapsed": false,
    "pycharm": {
     "name": "#%%\n"
    }
   }
  },
  {
   "cell_type": "code",
   "execution_count": 15,
   "outputs": [],
   "source": [
    "#El resultado de la codificacion no es correcto\n",
    "#Cuando se habla de paises no existen comparaciones de cual es mayor o menor\n",
    "#x"
   ],
   "metadata": {
    "collapsed": false,
    "pycharm": {
     "name": "#%%\n"
    }
   }
  },
  {
   "cell_type": "code",
   "execution_count": 16,
   "outputs": [
    {
     "name": "stderr",
     "output_type": "stream",
     "text": [
      "C:\\Users\\VIC\\AppData\\Local\\Temp/ipykernel_22252/3819086835.py:11: DeprecationWarning: `np.float` is a deprecated alias for the builtin `float`. To silence this warning, use `float` by itself. Doing this will not modify any behavior and is safe. If you specifically wanted the numpy scalar type, use `np.float64` here.\n",
      "Deprecated in NumPy 1.20; for more details and guidance: https://numpy.org/devdocs/release/1.20.0-notes.html#deprecations\n",
      "  x=np.array(ct_x.fit_transform(x),dtype=np.float)\n"
     ]
    }
   ],
   "source": [
    "#Variable X - LabelEncoder y Dummies Columns\n",
    "\n",
    "from sklearn.preprocessing import OneHotEncoder\n",
    "from sklearn.compose import ColumnTransformer\n",
    "\n",
    "ct_x=ColumnTransformer(\n",
    "    [('one_hot_encoder', OneHotEncoder(categories='auto'),[0])],\n",
    "    remainder='passthrough'\n",
    ")\n",
    "\n",
    "x=np.array(ct_x.fit_transform(x),dtype=np.float)"
   ],
   "metadata": {
    "collapsed": false,
    "pycharm": {
     "name": "#%%\n"
    }
   }
  },
  {
   "cell_type": "code",
   "execution_count": 17,
   "outputs": [
    {
     "data": {
      "text/plain": "array([[1.00000000e+00, 0.00000000e+00, 0.00000000e+00, 4.40000000e+01,\n        7.20000000e+04],\n       [0.00000000e+00, 0.00000000e+00, 1.00000000e+00, 2.70000000e+01,\n        4.80000000e+04],\n       [0.00000000e+00, 1.00000000e+00, 0.00000000e+00, 3.00000000e+01,\n        5.40000000e+04],\n       [0.00000000e+00, 0.00000000e+00, 1.00000000e+00, 3.80000000e+01,\n        6.10000000e+04],\n       [0.00000000e+00, 1.00000000e+00, 0.00000000e+00, 4.00000000e+01,\n        6.37777778e+04],\n       [1.00000000e+00, 0.00000000e+00, 0.00000000e+00, 3.50000000e+01,\n        5.80000000e+04],\n       [0.00000000e+00, 0.00000000e+00, 1.00000000e+00, 3.87777778e+01,\n        5.20000000e+04],\n       [1.00000000e+00, 0.00000000e+00, 0.00000000e+00, 4.80000000e+01,\n        7.90000000e+04],\n       [0.00000000e+00, 1.00000000e+00, 0.00000000e+00, 5.00000000e+01,\n        8.30000000e+04],\n       [1.00000000e+00, 0.00000000e+00, 0.00000000e+00, 3.70000000e+01,\n        6.70000000e+04]])"
     },
     "execution_count": 17,
     "metadata": {},
     "output_type": "execute_result"
    }
   ],
   "source": [
    "x"
   ],
   "metadata": {
    "collapsed": false,
    "pycharm": {
     "name": "#%%\n"
    }
   }
  },
  {
   "cell_type": "code",
   "execution_count": 18,
   "outputs": [],
   "source": [
    "#Variable Y - LabelEncoder\n",
    "\n",
    "from sklearn.preprocessing import LabelEncoder\n",
    "labelEncoder_y=LabelEncoder()\n",
    "y=labelEncoder_y.fit_transform(y)"
   ],
   "metadata": {
    "collapsed": false,
    "pycharm": {
     "name": "#%%\n"
    }
   }
  },
  {
   "cell_type": "code",
   "execution_count": 19,
   "outputs": [
    {
     "data": {
      "text/plain": "array([0, 1, 0, 0, 1, 1, 0, 1, 0, 1])"
     },
     "execution_count": 19,
     "metadata": {},
     "output_type": "execute_result"
    }
   ],
   "source": [
    "y"
   ],
   "metadata": {
    "collapsed": false,
    "pycharm": {
     "name": "#%%\n"
    }
   }
  },
  {
   "cell_type": "code",
   "execution_count": 20,
   "outputs": [],
   "source": [
    "#DATASET DE TRAINIG Y TEST\n",
    "\n",
    "#Training, para entrenar el algoritmo. Entrenar un modelo que sea capaz de predecir la variable dependiente\n",
    "#Test, para probar el algoritmo\n",
    "#Overfiting, el algoritmo memoriza\n",
    "#Normalmente 20% o 30% para testing\n",
    "\n",
    "from sklearn.model_selection import train_test_split\n",
    "\n",
    "x_train, x_test, y_train, y_test = train_test_split(x,y,test_size=0.2, random_state= 0) #randon_state=Para que siempre devuleva el mismo resultado, es cualquier numero"
   ],
   "metadata": {
    "collapsed": false,
    "pycharm": {
     "name": "#%%\n"
    }
   }
  },
  {
   "cell_type": "code",
   "execution_count": 21,
   "outputs": [
    {
     "data": {
      "text/plain": "array([[0.00000000e+00, 1.00000000e+00, 0.00000000e+00, 4.00000000e+01,\n        6.37777778e+04],\n       [1.00000000e+00, 0.00000000e+00, 0.00000000e+00, 3.70000000e+01,\n        6.70000000e+04],\n       [0.00000000e+00, 0.00000000e+00, 1.00000000e+00, 2.70000000e+01,\n        4.80000000e+04],\n       [0.00000000e+00, 0.00000000e+00, 1.00000000e+00, 3.87777778e+01,\n        5.20000000e+04],\n       [1.00000000e+00, 0.00000000e+00, 0.00000000e+00, 4.80000000e+01,\n        7.90000000e+04],\n       [0.00000000e+00, 0.00000000e+00, 1.00000000e+00, 3.80000000e+01,\n        6.10000000e+04],\n       [1.00000000e+00, 0.00000000e+00, 0.00000000e+00, 4.40000000e+01,\n        7.20000000e+04],\n       [1.00000000e+00, 0.00000000e+00, 0.00000000e+00, 3.50000000e+01,\n        5.80000000e+04]])"
     },
     "execution_count": 21,
     "metadata": {},
     "output_type": "execute_result"
    }
   ],
   "source": [
    "x_train"
   ],
   "metadata": {
    "collapsed": false,
    "pycharm": {
     "name": "#%%\n"
    }
   }
  },
  {
   "cell_type": "code",
   "execution_count": 22,
   "outputs": [
    {
     "data": {
      "text/plain": "array([1, 1, 1, 0, 1, 0, 0, 1])"
     },
     "execution_count": 22,
     "metadata": {},
     "output_type": "execute_result"
    }
   ],
   "source": [
    "y_train"
   ],
   "metadata": {
    "collapsed": false,
    "pycharm": {
     "name": "#%%\n"
    }
   }
  },
  {
   "cell_type": "code",
   "execution_count": 23,
   "outputs": [
    {
     "data": {
      "text/plain": "array([[0.0e+00, 1.0e+00, 0.0e+00, 3.0e+01, 5.4e+04],\n       [0.0e+00, 1.0e+00, 0.0e+00, 5.0e+01, 8.3e+04]])"
     },
     "execution_count": 23,
     "metadata": {},
     "output_type": "execute_result"
    }
   ],
   "source": [
    "x_test"
   ],
   "metadata": {
    "collapsed": false,
    "pycharm": {
     "name": "#%%\n"
    }
   }
  },
  {
   "cell_type": "code",
   "execution_count": 25,
   "outputs": [
    {
     "data": {
      "text/plain": "array([0, 0])"
     },
     "execution_count": 25,
     "metadata": {},
     "output_type": "execute_result"
    }
   ],
   "source": [
    "y_test"
   ],
   "metadata": {
    "collapsed": false,
    "pycharm": {
     "name": "#%%\n"
    }
   }
  },
  {
   "cell_type": "code",
   "execution_count": 29,
   "outputs": [],
   "source": [
    "#ESCALAR DATOS\n",
    "\n",
    "#Escalar significar normalizar los valores para que no existan diferencia de valores de rangos\n",
    "#Si no se escala para el algoritmo algunos valores pasan desapercibidos\n",
    "#El escalado evita que unas variables dominen sobre otras\n",
    "#El escalado es importante para que algoritmo asigne un peso\n",
    "#Si hay una variable con rango de valores mas grandes que otra variable, entonces escalar\n",
    "\n",
    "#### Estandarizacion (dividir entre la desviacion estandar)\n",
    "#Le resta la media y lo divide por la desviacion estandar\n",
    "#genera una campana de gauss\n",
    "#genera valores entorno a la media\n",
    "#los valores estaran cercanos a 0, los extremos tendran valores 1 pico o 3 pico\n",
    "    # x estandarizado = x - media(x)/desviacion estandar(x)\n",
    "\n",
    "#### Normalizacion (dividir de forma normalito)\n",
    "#resta el minimo y divide el maximo menos el minimo\n",
    "#los valores se transforman entre 0 y 1\n",
    "    # x normalizado = x - minimo(x) / maximo(x) - minimo(x)\n",
    "\n",
    "#### Es necesario escalar las variables dummy\n",
    "#Ambas razones son validas\n",
    "#No existen ventjas al escalar las variables dummy\n",
    "#En ambos casos convergen de la misma manera\n",
    "#Si,\n",
    "    #para que todas las variables queden en el mismo rango.\n",
    "    #Por coerencias\n",
    "    #Se pierde la nocion de pertenencia de las variables dummy (0,1,2 a 0.145, 0.454, 0.4545)\n",
    "#No,\n",
    "    #Las variables dummy mantienen sus valores de pertenencia\n",
    "    #Son mas legibles\n",
    "\n",
    "####Escalar la variable Y\n",
    "#Algoritmo de clasificacion\n",
    "    #En este caso no es necesario escalar\n",
    "    #Solo se quire clasificar si compra o no compra\n",
    "#Algoritmos de prediccion\n",
    "    #Regresion lineal\n",
    "    #Es recomendable escalar\n",
    "\n",
    "from sklearn.preprocessing import StandardScaler\n",
    "\n",
    "sc_x=StandardScaler() #Crear el escalador estandar\n",
    "x_train=sc_x.fit_transform(x_train) #escalar automaticamente el conjunto de entrenamiento  'x_train'. Fit y Transform\n",
    "x_test=sc_x.transform(x_test) #el conjunto de test se va escalar con la misma transformacion que el escalador haya detectado apartir del conjunto de entrenamentio. Se trata que todo el mundo quede escalado con la misma formular. Solo transform"
   ],
   "metadata": {
    "collapsed": false,
    "pycharm": {
     "name": "#%%\n"
    }
   }
  },
  {
   "cell_type": "code",
   "execution_count": 30,
   "outputs": [
    {
     "data": {
      "text/plain": "array([[-1.        ,  2.64575131, -0.77459667,  0.26306757,  0.12381479],\n       [ 1.        , -0.37796447, -0.77459667, -0.25350148,  0.46175632],\n       [-1.        , -0.37796447,  1.29099445, -1.97539832, -1.53093341],\n       [-1.        , -0.37796447,  1.29099445,  0.05261351, -1.11141978],\n       [ 1.        , -0.37796447, -0.77459667,  1.64058505,  1.7202972 ],\n       [-1.        , -0.37796447,  1.29099445, -0.0813118 , -0.16751412],\n       [ 1.        , -0.37796447, -0.77459667,  0.95182631,  0.98614835],\n       [ 1.        , -0.37796447, -0.77459667, -0.59788085, -0.48214934]])"
     },
     "execution_count": 30,
     "metadata": {},
     "output_type": "execute_result"
    }
   ],
   "source": [
    "x_train"
   ],
   "metadata": {
    "collapsed": false,
    "pycharm": {
     "name": "#%%\n"
    }
   }
  },
  {
   "cell_type": "code",
   "execution_count": 32,
   "outputs": [
    {
     "data": {
      "text/plain": "array([[-1.        ,  2.64575131, -0.77459667, -1.45882927, -0.90166297],\n       [-1.        ,  2.64575131, -0.77459667,  1.98496442,  2.13981082]])"
     },
     "execution_count": 32,
     "metadata": {},
     "output_type": "execute_result"
    }
   ],
   "source": [
    "x_test"
   ],
   "metadata": {
    "collapsed": false,
    "pycharm": {
     "name": "#%%\n"
    }
   }
  },
  {
   "cell_type": "code",
   "execution_count": null,
   "outputs": [],
   "source": [],
   "metadata": {
    "collapsed": false,
    "pycharm": {
     "name": "#%%\n"
    }
   }
  }
 ],
 "metadata": {
  "kernelspec": {
   "display_name": "Python 3",
   "language": "python",
   "name": "python3"
  },
  "language_info": {
   "codemirror_mode": {
    "name": "ipython",
    "version": 2
   },
   "file_extension": ".py",
   "mimetype": "text/x-python",
   "name": "python",
   "nbconvert_exporter": "python",
   "pygments_lexer": "ipython2",
   "version": "2.7.6"
  }
 },
 "nbformat": 4,
 "nbformat_minor": 0
}