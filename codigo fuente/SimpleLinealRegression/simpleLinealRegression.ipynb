{
 "cells": [
  {
   "cell_type": "markdown",
   "source": [
    "### Simple Linear Regression"
   ],
   "metadata": {
    "collapsed": false,
    "pycharm": {
     "name": "#%% md\n"
    }
   }
  },
  {
   "cell_type": "code",
   "execution_count": 17,
   "outputs": [],
   "source": [
    "# LIBRERIAS\n",
    "\n",
    "import numpy as np\n",
    "import matplotlib.pyplot as plt\n",
    "import pandas as pd"
   ],
   "metadata": {
    "collapsed": false,
    "pycharm": {
     "name": "#%%\n"
    }
   }
  },
  {
   "cell_type": "code",
   "execution_count": 18,
   "outputs": [],
   "source": [
    "# IMPORTAR DATASET\n",
    "\n",
    "dataset=pd.read_csv(\"DataSet/Salary_Data.csv\")\n",
    "x=dataset.iloc[:,:-1]\n",
    "y=dataset.iloc[:,1]"
   ],
   "metadata": {
    "collapsed": false,
    "pycharm": {
     "name": "#%%\n"
    }
   }
  },
  {
   "cell_type": "code",
   "execution_count": 13,
   "outputs": [
    {
     "data": {
      "text/plain": "    YearsExperience\n0               1.1\n1               1.3\n2               1.5\n3               2.0\n4               2.2\n5               2.9\n6               3.0\n7               3.2\n8               3.2\n9               3.7\n10              3.9\n11              4.0\n12              4.0\n13              4.1\n14              4.5\n15              4.9\n16              5.1\n17              5.3\n18              5.9\n19              6.0\n20              6.8\n21              7.1\n22              7.9\n23              8.2\n24              8.7\n25              9.0\n26              9.5\n27              9.6\n28             10.3\n29             10.5",
      "text/html": "<div>\n<style scoped>\n    .dataframe tbody tr th:only-of-type {\n        vertical-align: middle;\n    }\n\n    .dataframe tbody tr th {\n        vertical-align: top;\n    }\n\n    .dataframe thead th {\n        text-align: right;\n    }\n</style>\n<table border=\"1\" class=\"dataframe\">\n  <thead>\n    <tr style=\"text-align: right;\">\n      <th></th>\n      <th>YearsExperience</th>\n    </tr>\n  </thead>\n  <tbody>\n    <tr>\n      <th>0</th>\n      <td>1.1</td>\n    </tr>\n    <tr>\n      <th>1</th>\n      <td>1.3</td>\n    </tr>\n    <tr>\n      <th>2</th>\n      <td>1.5</td>\n    </tr>\n    <tr>\n      <th>3</th>\n      <td>2.0</td>\n    </tr>\n    <tr>\n      <th>4</th>\n      <td>2.2</td>\n    </tr>\n    <tr>\n      <th>5</th>\n      <td>2.9</td>\n    </tr>\n    <tr>\n      <th>6</th>\n      <td>3.0</td>\n    </tr>\n    <tr>\n      <th>7</th>\n      <td>3.2</td>\n    </tr>\n    <tr>\n      <th>8</th>\n      <td>3.2</td>\n    </tr>\n    <tr>\n      <th>9</th>\n      <td>3.7</td>\n    </tr>\n    <tr>\n      <th>10</th>\n      <td>3.9</td>\n    </tr>\n    <tr>\n      <th>11</th>\n      <td>4.0</td>\n    </tr>\n    <tr>\n      <th>12</th>\n      <td>4.0</td>\n    </tr>\n    <tr>\n      <th>13</th>\n      <td>4.1</td>\n    </tr>\n    <tr>\n      <th>14</th>\n      <td>4.5</td>\n    </tr>\n    <tr>\n      <th>15</th>\n      <td>4.9</td>\n    </tr>\n    <tr>\n      <th>16</th>\n      <td>5.1</td>\n    </tr>\n    <tr>\n      <th>17</th>\n      <td>5.3</td>\n    </tr>\n    <tr>\n      <th>18</th>\n      <td>5.9</td>\n    </tr>\n    <tr>\n      <th>19</th>\n      <td>6.0</td>\n    </tr>\n    <tr>\n      <th>20</th>\n      <td>6.8</td>\n    </tr>\n    <tr>\n      <th>21</th>\n      <td>7.1</td>\n    </tr>\n    <tr>\n      <th>22</th>\n      <td>7.9</td>\n    </tr>\n    <tr>\n      <th>23</th>\n      <td>8.2</td>\n    </tr>\n    <tr>\n      <th>24</th>\n      <td>8.7</td>\n    </tr>\n    <tr>\n      <th>25</th>\n      <td>9.0</td>\n    </tr>\n    <tr>\n      <th>26</th>\n      <td>9.5</td>\n    </tr>\n    <tr>\n      <th>27</th>\n      <td>9.6</td>\n    </tr>\n    <tr>\n      <th>28</th>\n      <td>10.3</td>\n    </tr>\n    <tr>\n      <th>29</th>\n      <td>10.5</td>\n    </tr>\n  </tbody>\n</table>\n</div>"
     },
     "execution_count": 13,
     "metadata": {},
     "output_type": "execute_result"
    }
   ],
   "source": [
    "x"
   ],
   "metadata": {
    "collapsed": false,
    "pycharm": {
     "name": "#%%\n"
    }
   }
  },
  {
   "cell_type": "code",
   "execution_count": 5,
   "outputs": [
    {
     "data": {
      "text/plain": "0      39343.0\n1      46205.0\n2      37731.0\n3      43525.0\n4      39891.0\n5      56642.0\n6      60150.0\n7      54445.0\n8      64445.0\n9      57189.0\n10     63218.0\n11     55794.0\n12     56957.0\n13     57081.0\n14     61111.0\n15     67938.0\n16     66029.0\n17     83088.0\n18     81363.0\n19     93940.0\n20     91738.0\n21     98273.0\n22    101302.0\n23    113812.0\n24    109431.0\n25    105582.0\n26    116969.0\n27    112635.0\n28    122391.0\n29    121872.0\nName: Salary, dtype: float64"
     },
     "execution_count": 5,
     "metadata": {},
     "output_type": "execute_result"
    }
   ],
   "source": [
    "y"
   ],
   "metadata": {
    "collapsed": false,
    "pycharm": {
     "name": "#%%\n"
    }
   }
  },
  {
   "cell_type": "code",
   "execution_count": 21,
   "outputs": [],
   "source": [
    "# DIVIDIR EL DATASET\n",
    "\n",
    "from sklearn.model_selection import train_test_split"
   ],
   "metadata": {
    "collapsed": false,
    "pycharm": {
     "name": "#%%\n"
    }
   }
  },
  {
   "cell_type": "code",
   "execution_count": 9,
   "outputs": [],
   "source": [
    "x_train, x_test, y_train, y_test=train_test_split(x,y,test_size=0.2, random_state=0)"
   ],
   "metadata": {
    "collapsed": false,
    "pycharm": {
     "name": "#%%\n"
    }
   }
  },
  {
   "cell_type": "code",
   "execution_count": 11,
   "outputs": [
    {
     "data": {
      "text/plain": "    YearsExperience\n2               1.5\n28             10.3\n13              4.1\n10              3.9\n26              9.5\n24              8.7",
      "text/html": "<div>\n<style scoped>\n    .dataframe tbody tr th:only-of-type {\n        vertical-align: middle;\n    }\n\n    .dataframe tbody tr th {\n        vertical-align: top;\n    }\n\n    .dataframe thead th {\n        text-align: right;\n    }\n</style>\n<table border=\"1\" class=\"dataframe\">\n  <thead>\n    <tr style=\"text-align: right;\">\n      <th></th>\n      <th>YearsExperience</th>\n    </tr>\n  </thead>\n  <tbody>\n    <tr>\n      <th>2</th>\n      <td>1.5</td>\n    </tr>\n    <tr>\n      <th>28</th>\n      <td>10.3</td>\n    </tr>\n    <tr>\n      <th>13</th>\n      <td>4.1</td>\n    </tr>\n    <tr>\n      <th>10</th>\n      <td>3.9</td>\n    </tr>\n    <tr>\n      <th>26</th>\n      <td>9.5</td>\n    </tr>\n    <tr>\n      <th>24</th>\n      <td>8.7</td>\n    </tr>\n  </tbody>\n</table>\n</div>"
     },
     "execution_count": 11,
     "metadata": {},
     "output_type": "execute_result"
    }
   ],
   "source": [
    "x_test"
   ],
   "metadata": {
    "collapsed": false,
    "pycharm": {
     "name": "#%%\n"
    }
   }
  },
  {
   "cell_type": "code",
   "execution_count": 22,
   "outputs": [],
   "source": [
    "# ESCALADO DE VARIABLES\n",
    "\n",
    "# No es necesario escalar los datos en la regresion lineal simple\n",
    "# Como solo hay una variable no existe la opcion que una variable domine respecto a la otras"
   ],
   "metadata": {
    "collapsed": false,
    "pycharm": {
     "name": "#%%\n"
    }
   }
  },
  {
   "cell_type": "code",
   "execution_count": 24,
   "outputs": [
    {
     "data": {
      "text/plain": "LinearRegression()"
     },
     "execution_count": 24,
     "metadata": {},
     "output_type": "execute_result"
    }
   ],
   "source": [
    "# CREACION DEL MODELO\n",
    "\n",
    "# Se ha creado el modelo\n",
    "# La maquina ha aprendido las relaciones entre las variables y se ha obtenido la mejor recta\n",
    "\n",
    "from sklearn.linear_model import LinearRegression\n",
    "regresion=LinearRegression()#Funcion para crear el modelo de regresion\n",
    "regresion.fit(x_train,y_train) #Ajustar el modelo de regresion lineal"
   ],
   "metadata": {
    "collapsed": false,
    "pycharm": {
     "name": "#%%\n"
    }
   }
  },
  {
   "cell_type": "code",
   "execution_count": 25,
   "outputs": [],
   "source": [
    "# PREDECIR\n",
    "\n",
    "y_pred=regresion.predict(x_test)"
   ],
   "metadata": {
    "collapsed": false,
    "pycharm": {
     "name": "#%%\n"
    }
   }
  },
  {
   "cell_type": "code",
   "execution_count": 26,
   "outputs": [
    {
     "data": {
      "text/plain": "array([ 40748.96184072, 122699.62295594,  64961.65717022,  63099.14214487,\n       115249.56285456, 107799.50275317])"
     },
     "execution_count": 26,
     "metadata": {},
     "output_type": "execute_result"
    }
   ],
   "source": [
    "y_pred"
   ],
   "metadata": {
    "collapsed": false,
    "pycharm": {
     "name": "#%%\n"
    }
   }
  },
  {
   "cell_type": "code",
   "execution_count": 27,
   "outputs": [
    {
     "data": {
      "text/plain": "2      37731.0\n28    122391.0\n13     57081.0\n10     63218.0\n26    116969.0\n24    109431.0\nName: Salary, dtype: float64"
     },
     "execution_count": 27,
     "metadata": {},
     "output_type": "execute_result"
    }
   ],
   "source": [
    "y_test"
   ],
   "metadata": {
    "collapsed": false,
    "pycharm": {
     "name": "#%%\n"
    }
   }
  },
  {
   "cell_type": "code",
   "execution_count": 29,
   "outputs": [
    {
     "data": {
      "text/plain": "<Figure size 432x288 with 1 Axes>",
      "image/png": "[encoded data removed]"
     },
     "metadata": {
      "needs_background": "light"
     },
     "output_type": "display_data"
    }
   ],
   "source": [
    "# VISUALIZACION\n",
    "\n",
    "#Es correcto modelar con un modelo lineal\n",
    "#Es verdad que el sueldo aumente linealmente a los anos de experiencia?\n",
    "\n",
    "#Graficar con los datos de training\n",
    "plt.scatter(x_train,y_train, color=\"red\")\n",
    "plt.plot(x_train, regresion.predict(x_train), color=\"blue\")\n",
    "plt.title(\"Sueldo vs Anos de experiencia(Conjunto de entrenamiento)\")\n",
    "plt.xlabel(\"Anos de experiencia\")\n",
    "plt.ylabel(\"Sueldo en $us\")\n",
    "plt.show()"
   ],
   "metadata": {
    "collapsed": false,
    "pycharm": {
     "name": "#%%\n"
    }
   }
  },
  {
   "cell_type": "code",
   "execution_count": 30,
   "outputs": [
    {
     "data": {
      "text/plain": "<Figure size 432x288 with 1 Axes>",
      "image/png": "[encoded data removed]"
     },
     "metadata": {
      "needs_background": "light"
     },
     "output_type": "display_data"
    }
   ],
   "source": [
    "#Graficar con los datos de testing\n",
    "plt.scatter(x_test,y_test, color=\"red\")\n",
    "plt.plot(x_train, regresion.predict(x_train), color=\"blue\") #La recta tiene que ser la misma\n",
    "plt.title(\"Sueldo vs Anos de experiencia(Conjunto de testing)\")\n",
    "plt.xlabel(\"Anos de experiencia\")\n",
    "plt.ylabel(\"Sueldo en $us\")\n",
    "plt.show()"
   ],
   "metadata": {
    "collapsed": false,
    "pycharm": {
     "name": "#%%\n"
    }
   }
  },
  {
   "cell_type": "code",
   "execution_count": null,
   "outputs": [],
   "source": [],
   "metadata": {
    "collapsed": false,
    "pycharm": {
     "name": "#%%\n"
    }
   }
  }
 ],
 "metadata": {
  "kernelspec": {
   "display_name": "Python 3",
   "language": "python",
   "name": "python3"
  },
  "language_info": {
   "codemirror_mode": {
    "name": "ipython",
    "version": 2
   },
   "file_extension": ".py",
   "mimetype": "text/x-python",
   "name": "python",
   "nbconvert_exporter": "python",
   "pygments_lexer": "ipython2",
   "version": "2.7.6"
  }
 },
 "nbformat": 4,
 "nbformat_minor": 0
}